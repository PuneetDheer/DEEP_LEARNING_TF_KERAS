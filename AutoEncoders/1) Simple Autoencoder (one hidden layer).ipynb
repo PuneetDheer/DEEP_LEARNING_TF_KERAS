{
 "cells": [
  {
   "cell_type": "code",
   "execution_count": 1,
   "metadata": {},
   "outputs": [],
   "source": [
    "import numpy as np\n",
    "import matplotlib.pyplot as plt\n",
    "import os,signal\n",
    "\n",
    "from tensorflow.keras.utils import plot_model\n",
    "from sklearn.model_selection import train_test_split\n",
    "from tensorflow.keras.layers import Input,Dense\n",
    "from tensorflow.keras import models,Model\n",
    "from tensorflow.keras import datasets\n",
    "import time\n",
    "\n",
    "%matplotlib inline"
   ]
  },
  {
   "cell_type": "code",
   "execution_count": 2,
   "metadata": {},
   "outputs": [],
   "source": [
    "#load mnist data\n",
    "(x_train, y_train), (x_test, y_test) = datasets.mnist.load_data()"
   ]
  },
  {
   "cell_type": "code",
   "execution_count": 3,
   "metadata": {},
   "outputs": [
    {
     "name": "stdout",
     "output_type": "stream",
     "text": [
      "Training data shape: (60000, 28, 28)\n",
      "Training label shape: (60000,)\n"
     ]
    }
   ],
   "source": [
    "print(\"Training data shape:\",x_train.shape)\n",
    "print(\"Training label shape:\",y_train.shape)"
   ]
  },
  {
   "cell_type": "code",
   "execution_count": 4,
   "metadata": {},
   "outputs": [
    {
     "data": {
      "text/plain": [
       "dtype('uint8')"
      ]
     },
     "execution_count": 4,
     "metadata": {},
     "output_type": "execute_result"
    }
   ],
   "source": [
    "x_train.dtype"
   ]
  },
  {
   "cell_type": "code",
   "execution_count": 5,
   "metadata": {},
   "outputs": [],
   "source": [
    "x_train = x_train.astype('float32') / 255\n",
    "x_test = x_test.astype('float32') / 255"
   ]
  },
  {
   "cell_type": "code",
   "execution_count": 6,
   "metadata": {},
   "outputs": [
    {
     "data": {
      "text/plain": [
       "((60000, 28, 28), (10000, 28, 28))"
      ]
     },
     "execution_count": 6,
     "metadata": {},
     "output_type": "execute_result"
    }
   ],
   "source": [
    "x_train.shape, x_test.shape"
   ]
  },
  {
   "cell_type": "code",
   "execution_count": 7,
   "metadata": {},
   "outputs": [],
   "source": [
    "x_train = x_train.reshape((len(x_train), np.prod(x_train.shape[1:])))\n",
    "x_test = x_test.reshape((len(x_test), np.prod(x_test.shape[1:])))"
   ]
  },
  {
   "cell_type": "code",
   "execution_count": 8,
   "metadata": {},
   "outputs": [
    {
     "data": {
      "text/plain": [
       "((60000, 784), (10000, 784), dtype('float32'))"
      ]
     },
     "execution_count": 8,
     "metadata": {},
     "output_type": "execute_result"
    }
   ],
   "source": [
    "x_train.shape, x_test.shape,x_train.dtype"
   ]
  },
  {
   "cell_type": "code",
   "execution_count": 9,
   "metadata": {},
   "outputs": [],
   "source": [
    "train_X,valid_X,train_Y,valid_Y = train_test_split(x_train,y_train,test_size=0.2)"
   ]
  },
  {
   "cell_type": "markdown",
   "metadata": {},
   "source": [
    "##### Model"
   ]
  },
  {
   "cell_type": "code",
   "execution_count": 10,
   "metadata": {},
   "outputs": [],
   "source": [
    "input_dim = x_train.shape[1]\n",
    "encoding_dim = 32 # compressed dimension\n",
    "output_dim = input_dim"
   ]
  },
  {
   "cell_type": "code",
   "execution_count": 11,
   "metadata": {},
   "outputs": [
    {
     "name": "stderr",
     "output_type": "stream",
     "text": [
      "WARNING: Logging before flag parsing goes to stderr.\n",
      "W0908 00:40:46.114974 19012 deprecation.py:506] From C:\\ProgramData\\Anaconda3\\envs\\tf_gpu\\lib\\site-packages\\tensorflow\\python\\ops\\init_ops.py:1251: calling VarianceScaling.__init__ (from tensorflow.python.ops.init_ops) with dtype is deprecated and will be removed in a future version.\n",
      "Instructions for updating:\n",
      "Call initializer instance with the dtype argument instead of passing it to the constructor\n"
     ]
    }
   ],
   "source": [
    "input_img = Input(shape = (input_dim, ),name='Input_Layer_1')\n",
    "\n",
    "# for compressed representation\n",
    "encoded = Dense(encoding_dim, activation='relu',name='Compressed_Layer_2')(input_img)\n",
    "\n",
    "#for decompressed representation\n",
    "decoded = Dense(output_dim, activation='sigmoid',name='Reconstruct_layer_3')(encoded)"
   ]
  },
  {
   "cell_type": "code",
   "execution_count": 12,
   "metadata": {},
   "outputs": [],
   "source": [
    "Van_autoencoder = Model(inputs = input_img, outputs = decoded)\n",
    "Van_autoencoder.compile(optimizer='adam', loss='mse')"
   ]
  },
  {
   "cell_type": "code",
   "execution_count": 13,
   "metadata": {},
   "outputs": [
    {
     "data": {
      "image/png": "[encoded data removed]",
      "text/plain": [
       "<IPython.core.display.Image object>"
      ]
     },
     "execution_count": 13,
     "metadata": {},
     "output_type": "execute_result"
    }
   ],
   "source": [
    "plot_model(Van_autoencoder, to_file='VANILLA_ae.png', show_shapes=True)"
   ]
  },
  {
   "cell_type": "code",
   "execution_count": 14,
   "metadata": {},
   "outputs": [
    {
     "name": "stdout",
     "output_type": "stream",
     "text": [
      "Model: \"model\"\n",
      "_________________________________________________________________\n",
      "Layer (type)                 Output Shape              Param #   \n",
      "=================================================================\n",
      "Input_Layer_1 (InputLayer)   [(None, 784)]             0         \n",
      "_________________________________________________________________\n",
      "Compressed_Layer_2 (Dense)   (None, 32)                25120     \n",
      "_________________________________________________________________\n",
      "Reconstruct_layer_3 (Dense)  (None, 784)               25872     \n",
      "=================================================================\n",
      "Total params: 50,992\n",
      "Trainable params: 50,992\n",
      "Non-trainable params: 0\n",
      "_________________________________________________________________\n"
     ]
    }
   ],
   "source": [
    "Van_autoencoder.summary()"
   ]
  },
  {
   "cell_type": "code",
   "execution_count": 15,
   "metadata": {},
   "outputs": [
    {
     "name": "stdout",
     "output_type": "stream",
     "text": [
      "Train on 48000 samples, validate on 12000 samples\n",
      "Epoch 1/30\n",
      "48000/48000 [==============================] - 4s 76us/sample - loss: 0.0589 - val_loss: 0.0345\n",
      "Epoch 2/30\n",
      "48000/48000 [==============================] - 1s 29us/sample - loss: 0.0285 - val_loss: 0.0240\n",
      "Epoch 3/30\n",
      "48000/48000 [==============================] - 1s 28us/sample - loss: 0.0211 - val_loss: 0.0188\n",
      "Epoch 4/30\n",
      "48000/48000 [==============================] - 1s 29us/sample - loss: 0.0171 - val_loss: 0.0157\n",
      "Epoch 5/30\n",
      "48000/48000 [==============================] - 1s 29us/sample - loss: 0.0146 - val_loss: 0.0137\n",
      "Epoch 6/30\n",
      "48000/48000 [==============================] - 1s 29us/sample - loss: 0.0129 - val_loss: 0.0124\n",
      "Epoch 7/30\n",
      "48000/48000 [==============================] - 1s 28us/sample - loss: 0.0119 - val_loss: 0.0116\n",
      "Epoch 8/30\n",
      "48000/48000 [==============================] - 1s 28us/sample - loss: 0.0113 - val_loss: 0.0112\n",
      "Epoch 9/30\n",
      "48000/48000 [==============================] - 1s 28us/sample - loss: 0.0110 - val_loss: 0.0109\n",
      "Epoch 10/30\n",
      "48000/48000 [==============================] - 1s 28us/sample - loss: 0.0108 - val_loss: 0.0108\n",
      "Epoch 11/30\n",
      "48000/48000 [==============================] - 1s 28us/sample - loss: 0.0106 - val_loss: 0.0106\n",
      "Epoch 12/30\n",
      "48000/48000 [==============================] - 1s 27us/sample - loss: 0.0105 - val_loss: 0.0106\n",
      "Epoch 13/30\n",
      "48000/48000 [==============================] - 1s 28us/sample - loss: 0.0105 - val_loss: 0.0105\n",
      "Epoch 14/30\n",
      "48000/48000 [==============================] - 1s 28us/sample - loss: 0.0104 - val_loss: 0.0104\n",
      "Epoch 15/30\n",
      "48000/48000 [==============================] - 1s 28us/sample - loss: 0.0103 - val_loss: 0.0104\n",
      "Epoch 16/30\n",
      "48000/48000 [==============================] - 1s 28us/sample - loss: 0.0103 - val_loss: 0.0104\n",
      "Epoch 17/30\n",
      "48000/48000 [==============================] - 1s 28us/sample - loss: 0.0103 - val_loss: 0.0103\n",
      "Epoch 18/30\n",
      "48000/48000 [==============================] - 1s 28us/sample - loss: 0.0102 - val_loss: 0.0103\n",
      "Epoch 19/30\n",
      "48000/48000 [==============================] - 1s 28us/sample - loss: 0.0102 - val_loss: 0.0103\n",
      "Epoch 20/30\n",
      "48000/48000 [==============================] - 1s 29us/sample - loss: 0.0102 - val_loss: 0.0103\n",
      "Epoch 21/30\n",
      "48000/48000 [==============================] - 1s 28us/sample - loss: 0.0101 - val_loss: 0.0103\n",
      "Epoch 22/30\n",
      "48000/48000 [==============================] - 1s 28us/sample - loss: 0.0101 - val_loss: 0.0102\n",
      "Epoch 23/30\n",
      "48000/48000 [==============================] - 1s 27us/sample - loss: 0.0101 - val_loss: 0.0102\n",
      "Epoch 24/30\n",
      "48000/48000 [==============================] - 1s 28us/sample - loss: 0.0101 - val_loss: 0.0102\n",
      "Epoch 25/30\n",
      "48000/48000 [==============================] - 1s 28us/sample - loss: 0.0100 - val_loss: 0.0102\n",
      "Epoch 26/30\n",
      "48000/48000 [==============================] - 1s 27us/sample - loss: 0.0100 - val_loss: 0.0102\n",
      "Epoch 27/30\n",
      "48000/48000 [==============================] - 1s 27us/sample - loss: 0.0100 - val_loss: 0.0102\n",
      "Epoch 28/30\n",
      "48000/48000 [==============================] - 1s 28us/sample - loss: 0.0100 - val_loss: 0.0101\n",
      "Epoch 29/30\n",
      "48000/48000 [==============================] - 1s 28us/sample - loss: 0.0100 - val_loss: 0.0101\n",
      "Epoch 30/30\n",
      "48000/48000 [==============================] - 1s 28us/sample - loss: 0.0100 - val_loss: 0.0101\n"
     ]
    }
   ],
   "source": [
    "epochs = 30\n",
    "batch_size = 128\n",
    "\n",
    "history = Van_autoencoder.fit(train_X, train_X, batch_size=batch_size, epochs=epochs, verbose=1, validation_data=(valid_X, valid_X))"
   ]
  },
  {
   "cell_type": "code",
   "execution_count": 16,
   "metadata": {},
   "outputs": [
    {
     "data": {
      "image/png": "[encoded data removed]",
      "text/plain": [
       "<Figure size 432x288 with 1 Axes>"
      ]
     },
     "metadata": {
      "needs_background": "light"
     },
     "output_type": "display_data"
    }
   ],
   "source": [
    "loss = history.history['loss']\n",
    "val_loss = history.history['val_loss']\n",
    "epochs = range(1, len(loss) + 1)\n",
    "\n",
    "plt.figure()\n",
    "plt.plot(epochs, loss, 'bo', label='Training loss')\n",
    "plt.plot(epochs, val_loss, 'b', label='Validation loss')\n",
    "plt.title('Training and validation loss')\n",
    "plt.legend()\n",
    "plt.show()"
   ]
  },
  {
   "cell_type": "code",
   "execution_count": 17,
   "metadata": {},
   "outputs": [],
   "source": [
    "Van_encoder_latent = Model(inputs = input_img, outputs = encoded)\n",
    "\n",
    "Van_encoded_imgs = Van_encoder_latent.predict(x_test)#compressed\n",
    "\n",
    "Van_decoded_imgs = Van_autoencoder.predict(x_test)#reconstructed"
   ]
  },
  {
   "cell_type": "code",
   "execution_count": 18,
   "metadata": {},
   "outputs": [
    {
     "data": {
      "image/png": "[encoded data removed]",
      "text/plain": [
       "<Figure size 1440x576 with 10 Axes>"
      ]
     },
     "metadata": {
      "needs_background": "light"
     },
     "output_type": "display_data"
    }
   ],
   "source": [
    "num_images = 10\n",
    "\n",
    "random_test_image_ind = np.random.randint(x_test.shape[0], size=num_images)\n",
    "\n",
    "plt.figure(figsize=(20, 8))\n",
    "for i,image_index in enumerate(random_test_image_ind):\n",
    "    ax = plt.subplot(1, num_images, i+1)\n",
    "    plt.imshow(Van_encoded_imgs[image_index].reshape(8,4))\n",
    "    plt.gray()\n",
    "    ax.get_xaxis().set_visible(False)\n",
    "    ax.get_yaxis().set_visible(False)\n",
    "plt.show()"
   ]
  },
  {
   "cell_type": "code",
   "execution_count": 19,
   "metadata": {},
   "outputs": [
    {
     "data": {
      "text/plain": [
       "(10000, 32)"
      ]
     },
     "execution_count": 19,
     "metadata": {},
     "output_type": "execute_result"
    }
   ],
   "source": [
    "Van_encoded_imgs.shape"
   ]
  },
  {
   "cell_type": "code",
   "execution_count": 20,
   "metadata": {},
   "outputs": [
    {
     "data": {
      "image/png": "[encoded data removed]",
      "text/plain": [
       "<Figure size 1440x432 with 30 Axes>"
      ]
     },
     "metadata": {
      "needs_background": "light"
     },
     "output_type": "display_data"
    }
   ],
   "source": [
    "plt.figure(figsize=(20, 6))\n",
    "\n",
    "for i,image_index in enumerate(random_test_image_ind):\n",
    "    # display original\n",
    "    ax = plt.subplot(3, num_images, i+1)\n",
    "    plt.imshow(x_test[image_index].reshape(28, 28))\n",
    "    plt.gray()\n",
    "    ax.get_xaxis().set_visible(False)\n",
    "    ax.get_yaxis().set_visible(False)\n",
    "    \n",
    "    # compressed representation\n",
    "    ax = plt.subplot(3, num_images, i+num_images+1)\n",
    "    plt.imshow(Van_encoded_imgs[image_index].reshape(8,4))\n",
    "    plt.gray()\n",
    "    ax.get_xaxis().set_visible(False)\n",
    "    ax.get_yaxis().set_visible(False)\n",
    "\n",
    "    # display reconstruction\n",
    "    ax = plt.subplot(3, num_images, i+2*num_images+1)\n",
    "    plt.imshow(Van_decoded_imgs[image_index].reshape(28, 28))\n",
    "    plt.gray()\n",
    "    ax.get_xaxis().set_visible(False)\n",
    "    ax.get_yaxis().set_visible(False)\n",
    "    \n",
    "plt.show()"
   ]
  },
  {
   "cell_type": "code",
   "execution_count": 21,
   "metadata": {},
   "outputs": [],
   "source": [
    "#  free memory resources, it will interrupt the kernel\n",
    "#os.kill(os.getpid(), signal.SIGTERM)"
   ]
  },
  {
   "cell_type": "code",
   "execution_count": null,
   "metadata": {},
   "outputs": [],
   "source": []
  }
 ],
 "metadata": {
  "kernelspec": {
   "display_name": "TF-GPU",
   "language": "python",
   "name": "tf_gpu"
  },
  "language_info": {
   "codemirror_mode": {
    "name": "ipython",
    "version": 3
   },
   "file_extension": ".py",
   "mimetype": "text/x-python",
   "name": "python",
   "nbconvert_exporter": "python",
   "pygments_lexer": "ipython3",
   "version": "3.6.9"
  }
 },
 "nbformat": 4,
 "nbformat_minor": 2
}
