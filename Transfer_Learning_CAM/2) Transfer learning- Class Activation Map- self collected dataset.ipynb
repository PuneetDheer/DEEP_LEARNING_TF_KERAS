{
 "cells": [
  {
   "cell_type": "code",
   "execution_count": 41,
   "metadata": {},
   "outputs": [],
   "source": [
    "import numpy as np\n",
    "import matplotlib.pyplot as plt\n",
    "import os, signal\n",
    "import cv2\n",
    "import seaborn as sns\n",
    "import pandas as pd\n",
    "import pickle\n",
    "import time\n",
    "\n",
    "from tensorflow.keras.utils import to_categorical\n",
    "from sklearn.utils import shuffle\n",
    "from sklearn.model_selection import train_test_split\n",
    "from tensorflow.keras.models import Sequential,load_model, model_from_yaml\n",
    "from tensorflow.keras.layers import Dense,Flatten,GlobalAveragePooling2D\n",
    "from tensorflow.keras import models,Model\n",
    "from tensorflow.keras.callbacks import EarlyStopping, ModelCheckpoint, ReduceLROnPlateau\n",
    "\n",
    "from tensorflow.keras.applications.vgg16 import VGG16\n",
    "from tensorflow.keras.preprocessing import image\n",
    "from tensorflow.keras.applications.vgg16 import preprocess_input, decode_predictions"
   ]
  },
  {
   "cell_type": "code",
   "execution_count": 2,
   "metadata": {},
   "outputs": [],
   "source": [
    "DATA_DIR='C:\\g_images\\downloads\\originals'\n",
    "CLASSES = ['cats','dogs','panda','bikes','horse']"
   ]
  },
  {
   "cell_type": "code",
   "execution_count": null,
   "metadata": {},
   "outputs": [],
   "source": [
    "training_data=[] #list\n",
    "training_label=[]\n",
    "training_data_raw=[] #list\n",
    "\n",
    "img_resize = 224\n",
    "\n",
    "def self_generated_train_data():\n",
    "    for c in CLASSES:\n",
    "        path = os.path.join(DATA_DIR,c)\n",
    "        class_no = CLASSES.index(c)\n",
    "        for img in os.listdir(path):\n",
    "            #print(os.path.join(path,img))\n",
    "            img_array_bgr = cv2.imread(os.path.join(path,img))\n",
    "            rgb_img = cv2.cvtColor(img_array_bgr, cv2.COLOR_BGR2RGB)\n",
    "            rgb_image_resized = cv2.resize(rgb_img,(img_resize,img_resize)) #cv2.resize() follows (width,height) unlike as expected (height, width)\n",
    "            training_data.append(rgb_image_resized) #append array to a list\n",
    "            training_label.append(class_no)\n",
    "            training_data_raw.append(rgb_img) \n",
    "                        \n",
    "        print(\"Class %d loaded: %s \"%(class_no,c))"
   ]
  },
  {
   "cell_type": "code",
   "execution_count": null,
   "metadata": {},
   "outputs": [],
   "source": [
    "self_generated_train_data()"
   ]
  },
  {
   "cell_type": "code",
   "execution_count": null,
   "metadata": {},
   "outputs": [],
   "source": [
    "# save the resized data to prevent from re-loading\n",
    "\n",
    "pickle_out=open(\"training_data_224px_VGG16.pickle\",'wb')\n",
    "pickle.dump(training_data,pickle_out)\n",
    "pickle_out.close()\n",
    "\n",
    "pickle_out=open(\"training_label_224px_VGG16.pickle\",'wb')\n",
    "pickle.dump(training_label,pickle_out)\n",
    "pickle_out.close()\n",
    "\n",
    "pickle_out=open(\"training_data_224px_VGG16_raw.pickle\",'wb')\n",
    "pickle.dump(training_data_raw,pickle_out)\n",
    "pickle_out.close()"
   ]
  },
  {
   "cell_type": "code",
   "execution_count": 3,
   "metadata": {},
   "outputs": [],
   "source": [
    "# to load the resized data\n",
    "pickle_in = open(\"training_data_224px_VGG16.pickle\",'rb')\n",
    "training_data = pickle.load(pickle_in)\n",
    "\n",
    "pickle_in = open(\"training_label_224px_VGG16.pickle\",'rb')\n",
    "training_label = pickle.load(pickle_in)\n",
    "\n",
    "pickle_in = open(\"training_data_224px_VGG16_raw.pickle\",'rb')\n",
    "training_data_raw = pickle.load(pickle_in)"
   ]
  },
  {
   "cell_type": "code",
   "execution_count": 4,
   "metadata": {},
   "outputs": [],
   "source": [
    "# Convert into an array for model input\n",
    "training_data = np.array(training_data)\n",
    "training_label = np.array(training_label)"
   ]
  },
  {
   "cell_type": "code",
   "execution_count": 5,
   "metadata": {},
   "outputs": [
    {
     "name": "stdout",
     "output_type": "stream",
     "text": [
      "Training data shape: (2750, 224, 224, 3)\n",
      "Training label shape: (2750,)\n"
     ]
    }
   ],
   "source": [
    "print(\"Training data shape:\",training_data.shape)\n",
    "print(\"Training label shape:\",training_label.shape)"
   ]
  },
  {
   "cell_type": "code",
   "execution_count": 6,
   "metadata": {},
   "outputs": [
    {
     "data": {
      "text/plain": [
       "<matplotlib.axes._subplots.AxesSubplot at 0x2192821e0b8>"
      ]
     },
     "execution_count": 6,
     "metadata": {},
     "output_type": "execute_result"
    },
    {
     "data": {
      "image/png": "[encoded data removed]",
      "text/plain": [
       "<Figure size 432x288 with 1 Axes>"
      ]
     },
     "metadata": {
      "needs_background": "light"
     },
     "output_type": "display_data"
    }
   ],
   "source": [
    "sns.countplot(training_label)"
   ]
  },
  {
   "cell_type": "code",
   "execution_count": 7,
   "metadata": {},
   "outputs": [
    {
     "name": "stdout",
     "output_type": "stream",
     "text": [
      "Class counts: {0: 550, 1: 550, 2: 550, 3: 550, 4: 550}\n"
     ]
    }
   ],
   "source": [
    "Class_label_counters = {label:list(training_label).count(label) for label in list(training_label)}\n",
    "print('Class counts:',Class_label_counters)"
   ]
  },
  {
   "cell_type": "code",
   "execution_count": 8,
   "metadata": {},
   "outputs": [
    {
     "name": "stdout",
     "output_type": "stream",
     "text": [
      "Total Number of classes: 5\n"
     ]
    }
   ],
   "source": [
    "total_classes = len(np.unique(training_label))\n",
    "print('Total Number of classes:',total_classes)"
   ]
  },
  {
   "cell_type": "code",
   "execution_count": 9,
   "metadata": {},
   "outputs": [],
   "source": [
    "y_categorical = to_categorical(training_label,total_classes)"
   ]
  },
  {
   "cell_type": "code",
   "execution_count": 10,
   "metadata": {},
   "outputs": [],
   "source": [
    "# Normalize the data \n",
    "training_data = training_data.astype('float32') / 255."
   ]
  },
  {
   "cell_type": "code",
   "execution_count": 11,
   "metadata": {},
   "outputs": [],
   "source": [
    "#shuffle the dataset\n",
    "x_shuffle,y_shuffle = shuffle(training_data,y_categorical,random_state=15)\n",
    "x_shuffle_raw,_ = shuffle(training_data_raw,y_categorical,random_state=15)"
   ]
  },
  {
   "cell_type": "code",
   "execution_count": 12,
   "metadata": {},
   "outputs": [],
   "source": [
    "# test data split\n",
    "X, X_test, Y, Y_test = train_test_split(x_shuffle,y_shuffle,test_size = 0.10,random_state=16)\n",
    "_, X_test_raw, _, _ = train_test_split(x_shuffle_raw,y_shuffle,test_size = 0.10,random_state=16)"
   ]
  },
  {
   "cell_type": "code",
   "execution_count": 13,
   "metadata": {},
   "outputs": [],
   "source": [
    "# train and valid data split\n",
    "X_train,X_valid,Y_train,Y_valid = train_test_split(X,Y,test_size = 0.20)"
   ]
  },
  {
   "cell_type": "code",
   "execution_count": 14,
   "metadata": {},
   "outputs": [
    {
     "name": "stdout",
     "output_type": "stream",
     "text": [
      "Test data shape after split: (275, 224, 224, 3)\n"
     ]
    }
   ],
   "source": [
    "print(\"Test data shape after split:\",X_test.shape)"
   ]
  },
  {
   "cell_type": "code",
   "execution_count": 15,
   "metadata": {},
   "outputs": [
    {
     "name": "stdout",
     "output_type": "stream",
     "text": [
      "Training data shape after split: (1980, 224, 224, 3)\n",
      "Validation data shape after split: (495, 224, 224, 3)\n"
     ]
    }
   ],
   "source": [
    "print(\"Training data shape after split:\",X_train.shape)\n",
    "print(\"Validation data shape after split:\",X_valid.shape)"
   ]
  },
  {
   "cell_type": "code",
   "execution_count": 16,
   "metadata": {},
   "outputs": [
    {
     "name": "stdout",
     "output_type": "stream",
     "text": [
      "Training label shape after split: (1980, 5)\n",
      "Validation label shape after split: (495, 5)\n"
     ]
    }
   ],
   "source": [
    "print(\"Training label shape after split:\",Y_train.shape)\n",
    "print(\"Validation label shape after split:\",Y_valid.shape)"
   ]
  },
  {
   "cell_type": "markdown",
   "metadata": {},
   "source": [
    "#### Using Pretrained Model VGG16"
   ]
  },
  {
   "cell_type": "code",
   "execution_count": 17,
   "metadata": {},
   "outputs": [
    {
     "name": "stderr",
     "output_type": "stream",
     "text": [
      "WARNING: Logging before flag parsing goes to stderr.\n",
      "W0909 00:15:08.384948 13456 deprecation.py:506] From C:\\ProgramData\\Anaconda3\\envs\\tf_gpu\\lib\\site-packages\\tensorflow\\python\\ops\\init_ops.py:1251: calling VarianceScaling.__init__ (from tensorflow.python.ops.init_ops) with dtype is deprecated and will be removed in a future version.\n",
      "Instructions for updating:\n",
      "Call initializer instance with the dtype argument instead of passing it to the constructor\n"
     ]
    },
    {
     "name": "stdout",
     "output_type": "stream",
     "text": [
      "Model: \"vgg16\"\n",
      "_________________________________________________________________\n",
      "Layer (type)                 Output Shape              Param #   \n",
      "=================================================================\n",
      "input_1 (InputLayer)         [(None, 224, 224, 3)]     0         \n",
      "_________________________________________________________________\n",
      "block1_conv1 (Conv2D)        (None, 224, 224, 64)      1792      \n",
      "_________________________________________________________________\n",
      "block1_conv2 (Conv2D)        (None, 224, 224, 64)      36928     \n",
      "_________________________________________________________________\n",
      "block1_pool (MaxPooling2D)   (None, 112, 112, 64)      0         \n",
      "_________________________________________________________________\n",
      "block2_conv1 (Conv2D)        (None, 112, 112, 128)     73856     \n",
      "_________________________________________________________________\n",
      "block2_conv2 (Conv2D)        (None, 112, 112, 128)     147584    \n",
      "_________________________________________________________________\n",
      "block2_pool (MaxPooling2D)   (None, 56, 56, 128)       0         \n",
      "_________________________________________________________________\n",
      "block3_conv1 (Conv2D)        (None, 56, 56, 256)       295168    \n",
      "_________________________________________________________________\n",
      "block3_conv2 (Conv2D)        (None, 56, 56, 256)       590080    \n",
      "_________________________________________________________________\n",
      "block3_conv3 (Conv2D)        (None, 56, 56, 256)       590080    \n",
      "_________________________________________________________________\n",
      "block3_pool (MaxPooling2D)   (None, 28, 28, 256)       0         \n",
      "_________________________________________________________________\n",
      "block4_conv1 (Conv2D)        (None, 28, 28, 512)       1180160   \n",
      "_________________________________________________________________\n",
      "block4_conv2 (Conv2D)        (None, 28, 28, 512)       2359808   \n",
      "_________________________________________________________________\n",
      "block4_conv3 (Conv2D)        (None, 28, 28, 512)       2359808   \n",
      "_________________________________________________________________\n",
      "block4_pool (MaxPooling2D)   (None, 14, 14, 512)       0         \n",
      "_________________________________________________________________\n",
      "block5_conv1 (Conv2D)        (None, 14, 14, 512)       2359808   \n",
      "_________________________________________________________________\n",
      "block5_conv2 (Conv2D)        (None, 14, 14, 512)       2359808   \n",
      "_________________________________________________________________\n",
      "block5_conv3 (Conv2D)        (None, 14, 14, 512)       2359808   \n",
      "_________________________________________________________________\n",
      "block5_pool (MaxPooling2D)   (None, 7, 7, 512)         0         \n",
      "_________________________________________________________________\n",
      "flatten (Flatten)            (None, 25088)             0         \n",
      "_________________________________________________________________\n",
      "fc1 (Dense)                  (None, 4096)              102764544 \n",
      "_________________________________________________________________\n",
      "fc2 (Dense)                  (None, 4096)              16781312  \n",
      "_________________________________________________________________\n",
      "predictions (Dense)          (None, 1000)              4097000   \n",
      "=================================================================\n",
      "Total params: 138,357,544\n",
      "Trainable params: 138,357,544\n",
      "Non-trainable params: 0\n",
      "_________________________________________________________________\n"
     ]
    }
   ],
   "source": [
    "modelVGG = VGG16(weights ='imagenet',include_top = True)\n",
    "modelVGG.summary()"
   ]
  },
  {
   "cell_type": "code",
   "execution_count": 18,
   "metadata": {},
   "outputs": [
    {
     "name": "stdout",
     "output_type": "stream",
     "text": [
      "Model: \"model\"\n",
      "_________________________________________________________________\n",
      "Layer (type)                 Output Shape              Param #   \n",
      "=================================================================\n",
      "input_1 (InputLayer)         [(None, 224, 224, 3)]     0         \n",
      "_________________________________________________________________\n",
      "block1_conv1 (Conv2D)        (None, 224, 224, 64)      1792      \n",
      "_________________________________________________________________\n",
      "block1_conv2 (Conv2D)        (None, 224, 224, 64)      36928     \n",
      "_________________________________________________________________\n",
      "block1_pool (MaxPooling2D)   (None, 112, 112, 64)      0         \n",
      "_________________________________________________________________\n",
      "block2_conv1 (Conv2D)        (None, 112, 112, 128)     73856     \n",
      "_________________________________________________________________\n",
      "block2_conv2 (Conv2D)        (None, 112, 112, 128)     147584    \n",
      "_________________________________________________________________\n",
      "block2_pool (MaxPooling2D)   (None, 56, 56, 128)       0         \n",
      "_________________________________________________________________\n",
      "block3_conv1 (Conv2D)        (None, 56, 56, 256)       295168    \n",
      "_________________________________________________________________\n",
      "block3_conv2 (Conv2D)        (None, 56, 56, 256)       590080    \n",
      "_________________________________________________________________\n",
      "block3_conv3 (Conv2D)        (None, 56, 56, 256)       590080    \n",
      "_________________________________________________________________\n",
      "block3_pool (MaxPooling2D)   (None, 28, 28, 256)       0         \n",
      "_________________________________________________________________\n",
      "block4_conv1 (Conv2D)        (None, 28, 28, 512)       1180160   \n",
      "_________________________________________________________________\n",
      "block4_conv2 (Conv2D)        (None, 28, 28, 512)       2359808   \n",
      "_________________________________________________________________\n",
      "block4_conv3 (Conv2D)        (None, 28, 28, 512)       2359808   \n",
      "_________________________________________________________________\n",
      "block4_pool (MaxPooling2D)   (None, 14, 14, 512)       0         \n",
      "_________________________________________________________________\n",
      "block5_conv1 (Conv2D)        (None, 14, 14, 512)       2359808   \n",
      "_________________________________________________________________\n",
      "block5_conv2 (Conv2D)        (None, 14, 14, 512)       2359808   \n",
      "_________________________________________________________________\n",
      "block5_conv3 (Conv2D)        (None, 14, 14, 512)       2359808   \n",
      "=================================================================\n",
      "Total params: 14,714,688\n",
      "Trainable params: 14,714,688\n",
      "Non-trainable params: 0\n",
      "_________________________________________________________________\n"
     ]
    }
   ],
   "source": [
    "CNN_VGG = Model(inputs = modelVGG.input,outputs = modelVGG.layers[-6].output)\n",
    "CNN_VGG.summary()"
   ]
  },
  {
   "cell_type": "code",
   "execution_count": 19,
   "metadata": {},
   "outputs": [],
   "source": [
    "# create new model\n",
    "gap_NN = Sequential()\n",
    "gap_NN.add(GlobalAveragePooling2D())\n",
    "gap_NN.add(Dense(5,activation = 'softmax'))"
   ]
  },
  {
   "cell_type": "code",
   "execution_count": 20,
   "metadata": {},
   "outputs": [
    {
     "name": "stdout",
     "output_type": "stream",
     "text": [
      "Model: \"model_1\"\n",
      "_________________________________________________________________\n",
      "Layer (type)                 Output Shape              Param #   \n",
      "=================================================================\n",
      "input_1 (InputLayer)         [(None, 224, 224, 3)]     0         \n",
      "_________________________________________________________________\n",
      "block1_conv1 (Conv2D)        (None, 224, 224, 64)      1792      \n",
      "_________________________________________________________________\n",
      "block1_conv2 (Conv2D)        (None, 224, 224, 64)      36928     \n",
      "_________________________________________________________________\n",
      "block1_pool (MaxPooling2D)   (None, 112, 112, 64)      0         \n",
      "_________________________________________________________________\n",
      "block2_conv1 (Conv2D)        (None, 112, 112, 128)     73856     \n",
      "_________________________________________________________________\n",
      "block2_conv2 (Conv2D)        (None, 112, 112, 128)     147584    \n",
      "_________________________________________________________________\n",
      "block2_pool (MaxPooling2D)   (None, 56, 56, 128)       0         \n",
      "_________________________________________________________________\n",
      "block3_conv1 (Conv2D)        (None, 56, 56, 256)       295168    \n",
      "_________________________________________________________________\n",
      "block3_conv2 (Conv2D)        (None, 56, 56, 256)       590080    \n",
      "_________________________________________________________________\n",
      "block3_conv3 (Conv2D)        (None, 56, 56, 256)       590080    \n",
      "_________________________________________________________________\n",
      "block3_pool (MaxPooling2D)   (None, 28, 28, 256)       0         \n",
      "_________________________________________________________________\n",
      "block4_conv1 (Conv2D)        (None, 28, 28, 512)       1180160   \n",
      "_________________________________________________________________\n",
      "block4_conv2 (Conv2D)        (None, 28, 28, 512)       2359808   \n",
      "_________________________________________________________________\n",
      "block4_conv3 (Conv2D)        (None, 28, 28, 512)       2359808   \n",
      "_________________________________________________________________\n",
      "block4_pool (MaxPooling2D)   (None, 14, 14, 512)       0         \n",
      "_________________________________________________________________\n",
      "block5_conv1 (Conv2D)        (None, 14, 14, 512)       2359808   \n",
      "_________________________________________________________________\n",
      "block5_conv2 (Conv2D)        (None, 14, 14, 512)       2359808   \n",
      "_________________________________________________________________\n",
      "block5_conv3 (Conv2D)        (None, 14, 14, 512)       2359808   \n",
      "_________________________________________________________________\n",
      "sequential (Sequential)      (None, 5)                 2565      \n",
      "=================================================================\n",
      "Total params: 14,717,253\n",
      "Trainable params: 14,717,253\n",
      "Non-trainable params: 0\n",
      "_________________________________________________________________\n"
     ]
    }
   ],
   "source": [
    "# this way only save the weights not the architecture, we have to recreate the same architecture to load the saved weights\n",
    "full_model = Model(inputs = CNN_VGG.input, \n",
    "                   outputs = gap_NN(CNN_VGG.output))\n",
    "full_model.summary()"
   ]
  },
  {
   "cell_type": "code",
   "execution_count": null,
   "metadata": {},
   "outputs": [],
   "source": [
    "# or in another way, it will save weights and architecture\n",
    "\n",
    "# last_conv_layer = modelVGG.get_layer('block5_conv3').output # modelVGG.layers[-6].output\n",
    "# gap_layer = GlobalAveragePooling2D()(last_conv_layer)\n",
    "# classification_layer = Dense(5,activation = 'softmax')(gap_layer)\n",
    "\n",
    "# full_model = Model(inputs = modelVGG.input, \n",
    "#                    outputs = classification_layer)\n",
    "\n",
    "# full_model.summary()\n"
   ]
  },
  {
   "cell_type": "code",
   "execution_count": 21,
   "metadata": {},
   "outputs": [],
   "source": [
    "for layer in full_model.layers[:-1]:\n",
    "    layer.trainable = False"
   ]
  },
  {
   "cell_type": "code",
   "execution_count": 22,
   "metadata": {},
   "outputs": [
    {
     "name": "stdout",
     "output_type": "stream",
     "text": [
      "<tensorflow.python.keras.engine.input_layer.InputLayer object at 0x0000021903A9A978> False\n",
      "<tensorflow.python.keras.layers.convolutional.Conv2D object at 0x0000021903A9A5F8> False\n",
      "<tensorflow.python.keras.layers.convolutional.Conv2D object at 0x0000021939211CF8> False\n",
      "<tensorflow.python.keras.layers.pooling.MaxPooling2D object at 0x0000021903AFF9E8> False\n",
      "<tensorflow.python.keras.layers.convolutional.Conv2D object at 0x0000021903EB82B0> False\n",
      "<tensorflow.python.keras.layers.convolutional.Conv2D object at 0x0000021903ED94E0> False\n",
      "<tensorflow.python.keras.layers.pooling.MaxPooling2D object at 0x0000021903EE60F0> False\n",
      "<tensorflow.python.keras.layers.convolutional.Conv2D object at 0x0000021904ACDF60> False\n",
      "<tensorflow.python.keras.layers.convolutional.Conv2D object at 0x0000021904AE9BE0> False\n",
      "<tensorflow.python.keras.layers.convolutional.Conv2D object at 0x0000021904B03278> False\n",
      "<tensorflow.python.keras.layers.pooling.MaxPooling2D object at 0x0000021904B357B8> False\n",
      "<tensorflow.python.keras.layers.convolutional.Conv2D object at 0x0000021906EB38D0> False\n",
      "<tensorflow.python.keras.layers.convolutional.Conv2D object at 0x0000021906EDB8D0> False\n",
      "<tensorflow.python.keras.layers.convolutional.Conv2D object at 0x0000021906F02588> False\n",
      "<tensorflow.python.keras.layers.pooling.MaxPooling2D object at 0x0000021907D340F0> False\n",
      "<tensorflow.python.keras.layers.convolutional.Conv2D object at 0x0000021907D6CB70> False\n",
      "<tensorflow.python.keras.layers.convolutional.Conv2D object at 0x0000021907D985C0> False\n",
      "<tensorflow.python.keras.layers.convolutional.Conv2D object at 0x0000021907DB20F0> False\n",
      "<tensorflow.python.keras.engine.sequential.Sequential object at 0x0000021911167400> True\n"
     ]
    }
   ],
   "source": [
    "for layer in full_model.layers:\n",
    "    print(layer, layer.trainable)"
   ]
  },
  {
   "cell_type": "code",
   "execution_count": 23,
   "metadata": {},
   "outputs": [],
   "source": [
    "full_model.compile(loss='categorical_crossentropy',optimizer='adam',metrics=['accuracy'])"
   ]
  },
  {
   "cell_type": "code",
   "execution_count": 24,
   "metadata": {},
   "outputs": [],
   "source": [
    "#full_model.summary()"
   ]
  },
  {
   "cell_type": "code",
   "execution_count": 25,
   "metadata": {},
   "outputs": [],
   "source": [
    "early_stopping = EarlyStopping(monitor='val_loss',\n",
    "                                       min_delta=0.001,\n",
    "                                       patience=10,\n",
    "                                       verbose=1, \n",
    "                                       mode='min',\n",
    "                                       restore_best_weights=True)"
   ]
  },
  {
   "cell_type": "code",
   "execution_count": 26,
   "metadata": {},
   "outputs": [],
   "source": [
    "model_checkpoint = ModelCheckpoint('VGG16_CAM_mc.h5', monitor='val_acc', mode='max', verbose=1, save_best_only=True)"
   ]
  },
  {
   "cell_type": "code",
   "execution_count": 27,
   "metadata": {},
   "outputs": [],
   "source": [
    "reduce_LR_OnPlateau = ReduceLROnPlateau(monitor='val_loss',\n",
    "                                        factor=0.1,\n",
    "                                        patience=5)"
   ]
  },
  {
   "cell_type": "code",
   "execution_count": 28,
   "metadata": {
    "scrolled": false
   },
   "outputs": [
    {
     "name": "stdout",
     "output_type": "stream",
     "text": [
      "Train on 1980 samples, validate on 495 samples\n",
      "Epoch 1/70\n",
      "1965/1980 [============================>.] - ETA: 0s - loss: 1.3592 - acc: 0.5282\n",
      "Epoch 00001: val_acc improved from -inf to 0.73939, saving model to VGG16_CAM_mc.h5\n",
      "1980/1980 [==============================] - 137s 69ms/sample - loss: 1.3582 - acc: 0.5298 - val_loss: 1.1305 - val_acc: 0.7394\n",
      "Epoch 2/70\n",
      "1965/1980 [============================>.] - ETA: 0s - loss: 0.9850 - acc: 0.8137\n",
      "Epoch 00002: val_acc improved from 0.73939 to 0.83636, saving model to VGG16_CAM_mc.h5\n",
      "1980/1980 [==============================] - 124s 63ms/sample - loss: 0.9840 - acc: 0.8131 - val_loss: 0.8910 - val_acc: 0.8364\n",
      "Epoch 3/70\n",
      "1965/1980 [============================>.] - ETA: 0s - loss: 0.8032 - acc: 0.8478\n",
      "Epoch 00003: val_acc improved from 0.83636 to 0.86667, saving model to VGG16_CAM_mc.h5\n",
      "1980/1980 [==============================] - 97s 49ms/sample - loss: 0.8031 - acc: 0.8485 - val_loss: 0.7525 - val_acc: 0.8667\n",
      "Epoch 4/70\n",
      "1965/1980 [============================>.] - ETA: 0s - loss: 0.6941 - acc: 0.8555\n",
      "Epoch 00004: val_acc improved from 0.86667 to 0.88687, saving model to VGG16_CAM_mc.h5\n",
      "1980/1980 [==============================] - 97s 49ms/sample - loss: 0.6922 - acc: 0.8566 - val_loss: 0.6601 - val_acc: 0.8869\n",
      "Epoch 5/70\n",
      "1965/1980 [============================>.] - ETA: 0s - loss: 0.6146 - acc: 0.8743\n",
      "Epoch 00005: val_acc did not improve from 0.88687\n",
      "1980/1980 [==============================] - 96s 49ms/sample - loss: 0.6132 - acc: 0.8753 - val_loss: 0.5958 - val_acc: 0.8747\n",
      "Epoch 6/70\n",
      "1965/1980 [============================>.] - ETA: 0s - loss: 0.5572 - acc: 0.8748\n",
      "Epoch 00006: val_acc did not improve from 0.88687\n",
      "1980/1980 [==============================] - 97s 49ms/sample - loss: 0.5551 - acc: 0.8758 - val_loss: 0.5492 - val_acc: 0.8828\n",
      "Epoch 7/70\n",
      "1965/1980 [============================>.] - ETA: 0s - loss: 0.5126 - acc: 0.8870\n",
      "Epoch 00007: val_acc improved from 0.88687 to 0.89091, saving model to VGG16_CAM_mc.h5\n",
      "1980/1980 [==============================] - 97s 49ms/sample - loss: 0.5112 - acc: 0.8874 - val_loss: 0.5050 - val_acc: 0.8909\n",
      "Epoch 8/70\n",
      "1965/1980 [============================>.] - ETA: 0s - loss: 0.4738 - acc: 0.8947\n",
      "Epoch 00008: val_acc improved from 0.89091 to 0.89697, saving model to VGG16_CAM_mc.h5\n",
      "1980/1980 [==============================] - 97s 49ms/sample - loss: 0.4730 - acc: 0.8949 - val_loss: 0.4711 - val_acc: 0.8970\n",
      "Epoch 9/70\n",
      "1965/1980 [============================>.] - ETA: 0s - loss: 0.4440 - acc: 0.9018\n",
      "Epoch 00009: val_acc improved from 0.89697 to 0.91313, saving model to VGG16_CAM_mc.h5\n",
      "1980/1980 [==============================] - 99s 50ms/sample - loss: 0.4441 - acc: 0.9020 - val_loss: 0.4419 - val_acc: 0.9131\n",
      "Epoch 10/70\n",
      "1965/1980 [============================>.] - ETA: 0s - loss: 0.4189 - acc: 0.9008\n",
      "Epoch 00010: val_acc did not improve from 0.91313\n",
      "1980/1980 [==============================] - 97s 49ms/sample - loss: 0.4191 - acc: 0.9015 - val_loss: 0.4216 - val_acc: 0.9051\n",
      "Epoch 11/70\n",
      "1965/1980 [============================>.] - ETA: 0s - loss: 0.3961 - acc: 0.9059\n",
      "Epoch 00011: val_acc did not improve from 0.91313\n",
      "1980/1980 [==============================] - 97s 49ms/sample - loss: 0.3958 - acc: 0.9056 - val_loss: 0.3988 - val_acc: 0.9091\n",
      "Epoch 12/70\n",
      "1965/1980 [============================>.] - ETA: 0s - loss: 0.3762 - acc: 0.9130\n",
      "Epoch 00012: val_acc improved from 0.91313 to 0.91515, saving model to VGG16_CAM_mc.h5\n",
      "1980/1980 [==============================] - 97s 49ms/sample - loss: 0.3761 - acc: 0.9121 - val_loss: 0.3835 - val_acc: 0.9152\n",
      "Epoch 13/70\n",
      "1965/1980 [============================>.] - ETA: 0s - loss: 0.3574 - acc: 0.9135\n",
      "Epoch 00013: val_acc did not improve from 0.91515\n",
      "1980/1980 [==============================] - 101s 51ms/sample - loss: 0.3588 - acc: 0.9136 - val_loss: 0.3743 - val_acc: 0.9030\n",
      "Epoch 14/70\n",
      "1965/1980 [============================>.] - ETA: 0s - loss: 0.3451 - acc: 0.9181\n",
      "Epoch 00014: val_acc improved from 0.91515 to 0.91717, saving model to VGG16_CAM_mc.h5\n",
      "1980/1980 [==============================] - 157s 79ms/sample - loss: 0.3445 - acc: 0.9182 - val_loss: 0.3585 - val_acc: 0.9172\n",
      "Epoch 15/70\n",
      "1965/1980 [============================>.] - ETA: 0s - loss: 0.3289 - acc: 0.9232\n",
      "Epoch 00015: val_acc did not improve from 0.91717\n",
      "1980/1980 [==============================] - 109s 55ms/sample - loss: 0.3302 - acc: 0.9217 - val_loss: 0.3476 - val_acc: 0.9111\n",
      "Epoch 16/70\n",
      "1965/1980 [============================>.] - ETA: 0s - loss: 0.3191 - acc: 0.9262\n",
      "Epoch 00016: val_acc improved from 0.91717 to 0.92929, saving model to VGG16_CAM_mc.h5\n",
      "1980/1980 [==============================] - 97s 49ms/sample - loss: 0.3179 - acc: 0.9268 - val_loss: 0.3301 - val_acc: 0.9293\n",
      "Epoch 17/70\n",
      "1965/1980 [============================>.] - ETA: 0s - loss: 0.3060 - acc: 0.9262\n",
      "Epoch 00017: val_acc improved from 0.92929 to 0.93131, saving model to VGG16_CAM_mc.h5\n",
      "1980/1980 [==============================] - 97s 49ms/sample - loss: 0.3062 - acc: 0.9263 - val_loss: 0.3234 - val_acc: 0.9313\n",
      "Epoch 18/70\n",
      "1965/1980 [============================>.] - ETA: 0s - loss: 0.2975 - acc: 0.9308\n",
      "Epoch 00018: val_acc did not improve from 0.93131\n",
      "1980/1980 [==============================] - 97s 49ms/sample - loss: 0.2974 - acc: 0.9303 - val_loss: 0.3124 - val_acc: 0.9313\n",
      "Epoch 19/70\n",
      "1965/1980 [============================>.] - ETA: 0s - loss: 0.2884 - acc: 0.9282\n",
      "Epoch 00019: val_acc did not improve from 0.93131\n",
      "1980/1980 [==============================] - 96s 49ms/sample - loss: 0.2881 - acc: 0.9288 - val_loss: 0.3046 - val_acc: 0.9293\n",
      "Epoch 20/70\n",
      "1965/1980 [============================>.] - ETA: 0s - loss: 0.2789 - acc: 0.9328\n",
      "Epoch 00020: val_acc improved from 0.93131 to 0.93535, saving model to VGG16_CAM_mc.h5\n",
      "1980/1980 [==============================] - 97s 49ms/sample - loss: 0.2790 - acc: 0.9328 - val_loss: 0.2966 - val_acc: 0.9354\n",
      "Epoch 21/70\n",
      "1965/1980 [============================>.] - ETA: 0s - loss: 0.2687 - acc: 0.9344\n",
      "Epoch 00021: val_acc improved from 0.93535 to 0.93737, saving model to VGG16_CAM_mc.h5\n",
      "1980/1980 [==============================] - 97s 49ms/sample - loss: 0.2703 - acc: 0.9333 - val_loss: 0.2889 - val_acc: 0.9374\n",
      "Epoch 22/70\n",
      "1965/1980 [============================>.] - ETA: 0s - loss: 0.2631 - acc: 0.9349\n",
      "Epoch 00022: val_acc did not improve from 0.93737\n",
      "1980/1980 [==============================] - 97s 49ms/sample - loss: 0.2633 - acc: 0.9343 - val_loss: 0.2847 - val_acc: 0.9354\n",
      "Epoch 23/70\n",
      "1965/1980 [============================>.] - ETA: 0s - loss: 0.2539 - acc: 0.9384\n",
      "Epoch 00023: val_acc did not improve from 0.93737\n",
      "1980/1980 [==============================] - 98s 49ms/sample - loss: 0.2556 - acc: 0.9369 - val_loss: 0.2784 - val_acc: 0.9354\n",
      "Epoch 24/70\n",
      "1965/1980 [============================>.] - ETA: 0s - loss: 0.2496 - acc: 0.9399\n",
      "Epoch 00024: val_acc did not improve from 0.93737\n",
      "1980/1980 [==============================] - 97s 49ms/sample - loss: 0.2484 - acc: 0.9404 - val_loss: 0.2721 - val_acc: 0.9333\n",
      "Epoch 25/70\n",
      "1965/1980 [============================>.] - ETA: 0s - loss: 0.2420 - acc: 0.9425\n",
      "Epoch 00025: val_acc did not improve from 0.93737\n",
      "1980/1980 [==============================] - 115s 58ms/sample - loss: 0.2421 - acc: 0.9424 - val_loss: 0.2684 - val_acc: 0.9374\n",
      "Epoch 26/70\n",
      "1965/1980 [============================>.] - ETA: 0s - loss: 0.2369 - acc: 0.9435\n",
      "Epoch 00026: val_acc did not improve from 0.93737\n",
      "1980/1980 [==============================] - 114s 57ms/sample - loss: 0.2361 - acc: 0.9439 - val_loss: 0.2628 - val_acc: 0.9354\n",
      "Epoch 27/70\n",
      "1965/1980 [============================>.] - ETA: 0s - loss: 0.2313 - acc: 0.9440\n",
      "Epoch 00027: val_acc did not improve from 0.93737\n",
      "1980/1980 [==============================] - 104s 53ms/sample - loss: 0.2312 - acc: 0.9439 - val_loss: 0.2587 - val_acc: 0.9374\n",
      "Epoch 28/70\n",
      "1965/1980 [============================>.] - ETA: 0s - loss: 0.2248 - acc: 0.9461\n",
      "Epoch 00028: val_acc did not improve from 0.93737\n",
      "1980/1980 [==============================] - 105s 53ms/sample - loss: 0.2256 - acc: 0.9455 - val_loss: 0.2544 - val_acc: 0.9354\n",
      "Epoch 29/70\n"
     ]
    },
    {
     "name": "stdout",
     "output_type": "stream",
     "text": [
      "1965/1980 [============================>.] - ETA: 0s - loss: 0.2204 - acc: 0.9450\n",
      "Epoch 00029: val_acc did not improve from 0.93737\n",
      "1980/1980 [==============================] - 104s 53ms/sample - loss: 0.2203 - acc: 0.9455 - val_loss: 0.2513 - val_acc: 0.9333\n",
      "Epoch 30/70\n",
      "1965/1980 [============================>.] - ETA: 0s - loss: 0.2159 - acc: 0.9496\n",
      "Epoch 00030: val_acc improved from 0.93737 to 0.94141, saving model to VGG16_CAM_mc.h5\n",
      "1980/1980 [==============================] - 105s 53ms/sample - loss: 0.2154 - acc: 0.9500 - val_loss: 0.2484 - val_acc: 0.9414\n",
      "Epoch 31/70\n",
      "1965/1980 [============================>.] - ETA: 0s - loss: 0.2109 - acc: 0.9476\n",
      "Epoch 00031: val_acc did not improve from 0.94141\n",
      "1980/1980 [==============================] - 104s 52ms/sample - loss: 0.2119 - acc: 0.9475 - val_loss: 0.2434 - val_acc: 0.9333\n",
      "Epoch 32/70\n",
      "1965/1980 [============================>.] - ETA: 0s - loss: 0.2088 - acc: 0.9501\n",
      "Epoch 00032: val_acc did not improve from 0.94141\n",
      "1980/1980 [==============================] - 105s 53ms/sample - loss: 0.2085 - acc: 0.9505 - val_loss: 0.2408 - val_acc: 0.9414\n",
      "Epoch 33/70\n",
      "1965/1980 [============================>.] - ETA: 0s - loss: 0.2022 - acc: 0.9486\n",
      "Epoch 00033: val_acc did not improve from 0.94141\n",
      "1980/1980 [==============================] - 104s 53ms/sample - loss: 0.2026 - acc: 0.9485 - val_loss: 0.2352 - val_acc: 0.9414\n",
      "Epoch 34/70\n",
      "1965/1980 [============================>.] - ETA: 0s - loss: 0.1989 - acc: 0.9506\n",
      "Epoch 00034: val_acc did not improve from 0.94141\n",
      "1980/1980 [==============================] - 104s 53ms/sample - loss: 0.1994 - acc: 0.9505 - val_loss: 0.2341 - val_acc: 0.9374\n",
      "Epoch 35/70\n",
      "1965/1980 [============================>.] - ETA: 0s - loss: 0.1950 - acc: 0.9496\n",
      "Epoch 00035: val_acc did not improve from 0.94141\n",
      "1980/1980 [==============================] - 105s 53ms/sample - loss: 0.1950 - acc: 0.9495 - val_loss: 0.2295 - val_acc: 0.9394\n",
      "Epoch 36/70\n",
      "1965/1980 [============================>.] - ETA: 0s - loss: 0.1911 - acc: 0.9537\n",
      "Epoch 00036: val_acc did not improve from 0.94141\n",
      "1980/1980 [==============================] - 105s 53ms/sample - loss: 0.1925 - acc: 0.9530 - val_loss: 0.2284 - val_acc: 0.9394\n",
      "Epoch 37/70\n",
      "1965/1980 [============================>.] - ETA: 0s - loss: 0.1885 - acc: 0.9522\n",
      "Epoch 00037: val_acc did not improve from 0.94141\n",
      "1980/1980 [==============================] - 105s 53ms/sample - loss: 0.1876 - acc: 0.9525 - val_loss: 0.2253 - val_acc: 0.9354\n",
      "Epoch 38/70\n",
      "1965/1980 [============================>.] - ETA: 0s - loss: 0.1849 - acc: 0.9562\n",
      "Epoch 00038: val_acc improved from 0.94141 to 0.94343, saving model to VGG16_CAM_mc.h5\n",
      "1980/1980 [==============================] - 105s 53ms/sample - loss: 0.1851 - acc: 0.9566 - val_loss: 0.2285 - val_acc: 0.9434\n",
      "Epoch 39/70\n",
      "1965/1980 [============================>.] - ETA: 0s - loss: 0.1774 - acc: 0.9547\n",
      "Epoch 00039: val_acc improved from 0.94343 to 0.94545, saving model to VGG16_CAM_mc.h5\n",
      "1980/1980 [==============================] - 104s 53ms/sample - loss: 0.1805 - acc: 0.9520 - val_loss: 0.2214 - val_acc: 0.9455\n",
      "Epoch 40/70\n",
      "1965/1980 [============================>.] - ETA: 0s - loss: 0.1802 - acc: 0.9547\n",
      "Epoch 00040: val_acc did not improve from 0.94545\n",
      "1980/1980 [==============================] - 105s 53ms/sample - loss: 0.1790 - acc: 0.9551 - val_loss: 0.2184 - val_acc: 0.9414\n",
      "Epoch 41/70\n",
      "1965/1980 [============================>.] - ETA: 0s - loss: 0.1747 - acc: 0.9542\n",
      "Epoch 00041: val_acc did not improve from 0.94545\n",
      "1980/1980 [==============================] - 105s 53ms/sample - loss: 0.1749 - acc: 0.9540 - val_loss: 0.2227 - val_acc: 0.9354\n",
      "Epoch 42/70\n",
      "1965/1980 [============================>.] - ETA: 0s - loss: 0.1735 - acc: 0.9567\n",
      "Epoch 00042: val_acc did not improve from 0.94545\n",
      "1980/1980 [==============================] - 104s 53ms/sample - loss: 0.1732 - acc: 0.9566 - val_loss: 0.2136 - val_acc: 0.9455\n",
      "Epoch 43/70\n",
      "1965/1980 [============================>.] - ETA: 0s - loss: 0.1693 - acc: 0.9573\n",
      "Epoch 00043: val_acc did not improve from 0.94545\n",
      "1980/1980 [==============================] - 105s 53ms/sample - loss: 0.1698 - acc: 0.9571 - val_loss: 0.2119 - val_acc: 0.9414\n",
      "Epoch 44/70\n",
      "1965/1980 [============================>.] - ETA: 0s - loss: 0.1679 - acc: 0.9583\n",
      "Epoch 00044: val_acc did not improve from 0.94545\n",
      "1980/1980 [==============================] - 105s 53ms/sample - loss: 0.1671 - acc: 0.9586 - val_loss: 0.2101 - val_acc: 0.9434\n",
      "Epoch 45/70\n",
      "1965/1980 [============================>.] - ETA: 0s - loss: 0.1648 - acc: 0.9573\n",
      "Epoch 00045: val_acc did not improve from 0.94545\n",
      "1980/1980 [==============================] - 104s 53ms/sample - loss: 0.1650 - acc: 0.9576 - val_loss: 0.2078 - val_acc: 0.9414\n",
      "Epoch 46/70\n",
      "1965/1980 [============================>.] - ETA: 0s - loss: 0.1619 - acc: 0.9593\n",
      "Epoch 00046: val_acc did not improve from 0.94545\n",
      "1980/1980 [==============================] - 105s 53ms/sample - loss: 0.1620 - acc: 0.9591 - val_loss: 0.2052 - val_acc: 0.9434\n",
      "Epoch 47/70\n",
      "1965/1980 [============================>.] - ETA: 0s - loss: 0.1600 - acc: 0.9598\n",
      "Epoch 00047: val_acc did not improve from 0.94545\n",
      "1980/1980 [==============================] - 105s 53ms/sample - loss: 0.1596 - acc: 0.9601 - val_loss: 0.2034 - val_acc: 0.9434\n",
      "Epoch 48/70\n",
      "1965/1980 [============================>.] - ETA: 0s - loss: 0.1576 - acc: 0.9613\n",
      "Epoch 00048: val_acc did not improve from 0.94545\n",
      "1980/1980 [==============================] - 105s 53ms/sample - loss: 0.1570 - acc: 0.9616 - val_loss: 0.2034 - val_acc: 0.9414\n",
      "Epoch 49/70\n",
      "1965/1980 [============================>.] - ETA: 0s - loss: 0.1557 - acc: 0.9598\n",
      "Epoch 00049: val_acc did not improve from 0.94545\n",
      "1980/1980 [==============================] - 104s 52ms/sample - loss: 0.1552 - acc: 0.9601 - val_loss: 0.2015 - val_acc: 0.9455\n",
      "Epoch 50/70\n",
      "1965/1980 [============================>.] - ETA: 0s - loss: 0.1533 - acc: 0.9618\n",
      "Epoch 00050: val_acc did not improve from 0.94545\n",
      "1980/1980 [==============================] - 103s 52ms/sample - loss: 0.1529 - acc: 0.9621 - val_loss: 0.2013 - val_acc: 0.9455\n",
      "Epoch 51/70\n",
      "1965/1980 [============================>.] - ETA: 0s - loss: 0.1504 - acc: 0.9603\n",
      "Epoch 00051: val_acc did not improve from 0.94545\n",
      "1980/1980 [==============================] - 104s 53ms/sample - loss: 0.1500 - acc: 0.9601 - val_loss: 0.2065 - val_acc: 0.9414\n",
      "Epoch 52/70\n",
      "1965/1980 [============================>.] - ETA: 0s - loss: 0.1487 - acc: 0.9618\n",
      "Epoch 00052: val_acc improved from 0.94545 to 0.94747, saving model to VGG16_CAM_mc.h5\n",
      "1980/1980 [==============================] - 104s 52ms/sample - loss: 0.1489 - acc: 0.9616 - val_loss: 0.1964 - val_acc: 0.9475\n",
      "Epoch 53/70\n",
      "1965/1980 [============================>.] - ETA: 0s - loss: 0.1466 - acc: 0.9623\n",
      "Epoch 00053: val_acc did not improve from 0.94747\n",
      "1980/1980 [==============================] - 104s 52ms/sample - loss: 0.1467 - acc: 0.9626 - val_loss: 0.1997 - val_acc: 0.9455\n",
      "Epoch 54/70\n",
      "1965/1980 [============================>.] - ETA: 0s - loss: 0.1451 - acc: 0.9649\n",
      "Epoch 00054: val_acc improved from 0.94747 to 0.95354, saving model to VGG16_CAM_mc.h5\n",
      "1980/1980 [==============================] - 103s 52ms/sample - loss: 0.1448 - acc: 0.9646 - val_loss: 0.1932 - val_acc: 0.9535\n",
      "Epoch 55/70\n",
      "1965/1980 [============================>.] - ETA: 0s - loss: 0.1430 - acc: 0.9659\n",
      "Epoch 00055: val_acc did not improve from 0.95354\n",
      "1980/1980 [==============================] - 103s 52ms/sample - loss: 0.1428 - acc: 0.9657 - val_loss: 0.1945 - val_acc: 0.9434\n",
      "Epoch 56/70\n",
      "1965/1980 [============================>.] - ETA: 0s - loss: 0.1412 - acc: 0.9644\n",
      "Epoch 00056: val_acc did not improve from 0.95354\n",
      "1980/1980 [==============================] - 103s 52ms/sample - loss: 0.1410 - acc: 0.9646 - val_loss: 0.1903 - val_acc: 0.9495\n",
      "Epoch 57/70\n",
      "1965/1980 [============================>.] - ETA: 0s - loss: 0.1380 - acc: 0.9659\n",
      "Epoch 00057: val_acc did not improve from 0.95354\n",
      "1980/1980 [==============================] - 103s 52ms/sample - loss: 0.1383 - acc: 0.9657 - val_loss: 0.1905 - val_acc: 0.9515\n",
      "Epoch 58/70\n",
      "1965/1980 [============================>.] - ETA: 0s - loss: 0.1373 - acc: 0.9654\n",
      "Epoch 00058: val_acc did not improve from 0.95354\n",
      "1980/1980 [==============================] - 103s 52ms/sample - loss: 0.1373 - acc: 0.9652 - val_loss: 0.1884 - val_acc: 0.9475\n"
     ]
    },
    {
     "name": "stdout",
     "output_type": "stream",
     "text": [
      "Epoch 59/70\n",
      "1965/1980 [============================>.] - ETA: 0s - loss: 0.1351 - acc: 0.9674\n",
      "Epoch 00059: val_acc did not improve from 0.95354\n",
      "1980/1980 [==============================] - 103s 52ms/sample - loss: 0.1357 - acc: 0.9672 - val_loss: 0.1886 - val_acc: 0.9475\n",
      "Epoch 60/70\n",
      "1965/1980 [============================>.] - ETA: 0s - loss: 0.1337 - acc: 0.9628\n",
      "Epoch 00060: val_acc did not improve from 0.95354\n",
      "1980/1980 [==============================] - 103s 52ms/sample - loss: 0.1340 - acc: 0.9626 - val_loss: 0.1859 - val_acc: 0.9495\n",
      "Epoch 61/70\n",
      "1965/1980 [============================>.] - ETA: 0s - loss: 0.1323 - acc: 0.9674\n",
      "Epoch 00061: val_acc did not improve from 0.95354\n",
      "1980/1980 [==============================] - 104s 53ms/sample - loss: 0.1329 - acc: 0.9677 - val_loss: 0.1857 - val_acc: 0.9495\n",
      "Epoch 62/70\n",
      "1965/1980 [============================>.] - ETA: 0s - loss: 0.1309 - acc: 0.9659\n",
      "Epoch 00062: val_acc did not improve from 0.95354\n",
      "1980/1980 [==============================] - 112s 56ms/sample - loss: 0.1307 - acc: 0.9662 - val_loss: 0.1870 - val_acc: 0.9455\n",
      "Epoch 63/70\n",
      "1965/1980 [============================>.] - ETA: 0s - loss: 0.1284 - acc: 0.9669\n",
      "Epoch 00063: val_acc did not improve from 0.95354\n",
      "1980/1980 [==============================] - 122s 62ms/sample - loss: 0.1280 - acc: 0.9672 - val_loss: 0.1867 - val_acc: 0.9495\n",
      "Epoch 64/70\n",
      "1965/1980 [============================>.] - ETA: 0s - loss: 0.1283 - acc: 0.9684\n",
      "Epoch 00064: val_acc did not improve from 0.95354\n",
      "1980/1980 [==============================] - 122s 62ms/sample - loss: 0.1275 - acc: 0.9687 - val_loss: 0.1820 - val_acc: 0.9495\n",
      "Epoch 65/70\n",
      "1965/1980 [============================>.] - ETA: 0s - loss: 0.1259 - acc: 0.9715\n",
      "Epoch 00065: val_acc did not improve from 0.95354\n",
      "1980/1980 [==============================] - 122s 62ms/sample - loss: 0.1258 - acc: 0.9712 - val_loss: 0.1834 - val_acc: 0.9495\n",
      "Epoch 66/70\n",
      "1965/1980 [============================>.] - ETA: 0s - loss: 0.1246 - acc: 0.9695\n",
      "Epoch 00066: val_acc did not improve from 0.95354\n",
      "1980/1980 [==============================] - 122s 62ms/sample - loss: 0.1246 - acc: 0.9692 - val_loss: 0.1801 - val_acc: 0.9475\n",
      "Epoch 67/70\n",
      "1965/1980 [============================>.] - ETA: 0s - loss: 0.1233 - acc: 0.9695\n",
      "Epoch 00067: val_acc did not improve from 0.95354\n",
      "1980/1980 [==============================] - 122s 61ms/sample - loss: 0.1229 - acc: 0.9697 - val_loss: 0.1792 - val_acc: 0.9515\n",
      "Epoch 68/70\n",
      "1965/1980 [============================>.] - ETA: 0s - loss: 0.1221 - acc: 0.9695\n",
      "Epoch 00068: val_acc did not improve from 0.95354\n",
      "1980/1980 [==============================] - 122s 61ms/sample - loss: 0.1218 - acc: 0.9697 - val_loss: 0.1829 - val_acc: 0.9515\n",
      "Epoch 69/70\n",
      "1965/1980 [============================>.] - ETA: 0s - loss: 0.1195 - acc: 0.9690\n",
      "Epoch 00069: val_acc did not improve from 0.95354\n",
      "1980/1980 [==============================] - 122s 61ms/sample - loss: 0.1194 - acc: 0.9692 - val_loss: 0.1791 - val_acc: 0.9475\n",
      "Epoch 70/70\n",
      "1965/1980 [============================>.] - ETA: 0s - loss: 0.1189 - acc: 0.9715\n",
      "Epoch 00070: val_acc did not improve from 0.95354\n",
      "1980/1980 [==============================] - 122s 62ms/sample - loss: 0.1188 - acc: 0.9717 - val_loss: 0.1768 - val_acc: 0.9475\n"
     ]
    }
   ],
   "source": [
    "# train the network\n",
    "history = full_model.fit(X_train, Y_train, \n",
    "                    epochs=70, \n",
    "                    batch_size=15,\n",
    "                    validation_data = (X_valid,Y_valid),\n",
    "                    callbacks=[early_stopping,model_checkpoint,reduce_LR_OnPlateau])"
   ]
  },
  {
   "cell_type": "code",
   "execution_count": 29,
   "metadata": {},
   "outputs": [
    {
     "data": {
      "image/png": "[encoded data removed]",
      "text/plain": [
       "<Figure size 432x288 with 1 Axes>"
      ]
     },
     "metadata": {
      "needs_background": "light"
     },
     "output_type": "display_data"
    },
    {
     "data": {
      "image/png": "[encoded data removed]",
      "text/plain": [
       "<Figure size 432x288 with 1 Axes>"
      ]
     },
     "metadata": {
      "needs_background": "light"
     },
     "output_type": "display_data"
    }
   ],
   "source": [
    "acc = history.history['acc']\n",
    "val_acc = history.history['val_acc']\n",
    "loss = history.history['loss']\n",
    "val_loss = history.history['val_loss']\n",
    "epochs = range(1, len(acc) + 1)\n",
    "\n",
    "plt.plot(epochs, acc, 'bo', label='Training acc')\n",
    "plt.plot(epochs, val_acc, 'b', label='Validation acc')\n",
    "plt.title('Training and validation accuracy')\n",
    "plt.legend()\n",
    "\n",
    "plt.figure()\n",
    "plt.plot(epochs, loss, 'bo', label='Training loss')\n",
    "plt.plot(epochs, val_loss, 'b', label='Validation loss')\n",
    "plt.title('Training and validation loss')\n",
    "plt.legend()\n",
    "plt.show()"
   ]
  },
  {
   "cell_type": "code",
   "execution_count": 30,
   "metadata": {},
   "outputs": [],
   "source": [
    "full_model.save('camTL.h5')"
   ]
  },
  {
   "cell_type": "code",
   "execution_count": 31,
   "metadata": {},
   "outputs": [],
   "source": [
    "#full_model.load_weights('camTL.h5')"
   ]
  },
  {
   "cell_type": "code",
   "execution_count": 32,
   "metadata": {},
   "outputs": [
    {
     "name": "stdout",
     "output_type": "stream",
     "text": [
      "275/275 [==============================] - 60s 217ms/sample - loss: 0.1583 - acc: 0.9491\n"
     ]
    },
    {
     "data": {
      "text/plain": [
       "[0.1582523331380874, 0.9490909]"
      ]
     },
     "execution_count": 32,
     "metadata": {},
     "output_type": "execute_result"
    }
   ],
   "source": [
    "full_model.evaluate(X_test,Y_test,batch_size=1)"
   ]
  },
  {
   "cell_type": "code",
   "execution_count": 33,
   "metadata": {},
   "outputs": [],
   "source": [
    "classifier_weights = full_model.layers[-1].get_weights()[0] #last layer weights"
   ]
  },
  {
   "cell_type": "code",
   "execution_count": 34,
   "metadata": {},
   "outputs": [
    {
     "name": "stdout",
     "output_type": "stream",
     "text": [
      "Shape of Weight:  (512, 5)\n"
     ]
    }
   ],
   "source": [
    "print('Shape of Weight: ',classifier_weights.shape)"
   ]
  },
  {
   "cell_type": "code",
   "execution_count": 35,
   "metadata": {},
   "outputs": [],
   "source": [
    "# create new model that will return two output\n",
    "cam_model2 = Model(inputs=full_model.input,\n",
    "                  outputs=(full_model.layers[-2].output, full_model.layers[-1].output))"
   ]
  },
  {
   "cell_type": "code",
   "execution_count": 36,
   "metadata": {},
   "outputs": [],
   "source": [
    "Activation_maps, Predict_prob = cam_model2.predict(X_test,batch_size=1)"
   ]
  },
  {
   "cell_type": "code",
   "execution_count": 37,
   "metadata": {},
   "outputs": [
    {
     "data": {
      "text/plain": [
       "((275, 14, 14, 512), (275, 5))"
      ]
     },
     "execution_count": 37,
     "metadata": {},
     "output_type": "execute_result"
    }
   ],
   "source": [
    "Activation_maps.shape, Predict_prob.shape"
   ]
  },
  {
   "cell_type": "code",
   "execution_count": 39,
   "metadata": {},
   "outputs": [],
   "source": [
    "def cam_plot(datasetSize = X_test,dataset_2 = X_test_raw, plotting = True):\n",
    "\n",
    "    num_images = 10\n",
    "\n",
    "    random_test_image_ind = np.random.randint(datasetSize.shape[0], size=num_images)\n",
    "    \n",
    "    if plotting:\n",
    "            plt.figure(figsize=(20, 6))\n",
    "\n",
    "    for i,image_index in enumerate(random_test_image_ind):\n",
    "\n",
    "        Activation_map_for_one_img = Activation_maps[image_index, :, :, :]\n",
    "\n",
    "        pred_id = np.argmax(Predict_prob[image_index])\n",
    "\n",
    "        predicted_class_weights = classifier_weights[:,pred_id]\n",
    "\n",
    "        cam = np.zeros(dtype = np.float32, shape = Activation_map_for_one_img.shape[0:2])\n",
    "\n",
    "        for j, w in enumerate(predicted_class_weights):\n",
    "\n",
    "            cam += np.dot(w, Activation_map_for_one_img[:, :, j])\n",
    "\n",
    "        cam/=np.max(cam)\n",
    "\n",
    "        cam = cv2.resize(cam, (X_test_raw[image_index].shape[1], X_test_raw[image_index].shape[0]))\n",
    "\n",
    "        heatmap = cv2.applyColorMap(np.uint8(255*cam), cv2.COLORMAP_JET)\n",
    "\n",
    "        heatmap = np.maximum(heatmap,0)\n",
    "        heatmap[np.where(cam<0.2)]=0\n",
    "\n",
    "        superimposed_img = heatmap*0.5 + (X_test_raw[image_index])\n",
    "\n",
    "        if plotting:\n",
    "            \n",
    "            ax = plt.subplot(2, num_images/2, i+1)\n",
    "            plt.imshow(np.uint8(superimposed_img))\n",
    "            ax.get_xaxis().set_visible(False)\n",
    "            ax.get_yaxis().set_visible(False)\n",
    "            \n",
    "        fn = 'image_'+str(image_index)+'.jpg'\n",
    "        cv2.imwrite(fn, (superimposed_img))"
   ]
  },
  {
   "cell_type": "code",
   "execution_count": 42,
   "metadata": {},
   "outputs": [
    {
     "name": "stdout",
     "output_type": "stream",
     "text": [
      "--- 377.281729221344 seconds ---\n"
     ]
    }
   ],
   "source": [
    "start_time = time.time()\n",
    "for i in range(100):\n",
    "    cam_plot(dataset_2=X_test_raw,plotting=False)\n",
    "print(\"--- %s seconds ---\" % (time.time() - start_time))"
   ]
  },
  {
   "cell_type": "code",
   "execution_count": null,
   "metadata": {},
   "outputs": [],
   "source": []
  },
  {
   "cell_type": "code",
   "execution_count": null,
   "metadata": {},
   "outputs": [],
   "source": [
    "# if functional module is followed by sequential module \n",
    "# then trying to save the model only allow to store the weights not the architecture.\n",
    "\n",
    "# better to write the code in funtional followed by functional"
   ]
  }
 ],
 "metadata": {
  "kernelspec": {
   "display_name": "TF-GPU",
   "language": "python",
   "name": "tf_gpu"
  },
  "language_info": {
   "codemirror_mode": {
    "name": "ipython",
    "version": 3
   },
   "file_extension": ".py",
   "mimetype": "text/x-python",
   "name": "python",
   "nbconvert_exporter": "python",
   "pygments_lexer": "ipython3",
   "version": "3.6.9"
  }
 },
 "nbformat": 4,
 "nbformat_minor": 2
}
