{
 "cells": [
  {
   "cell_type": "code",
   "execution_count": 48,
   "metadata": {},
   "outputs": [],
   "source": [
    "import numpy as np\n",
    "import matplotlib.pyplot as plt\n",
    "import os, signal\n",
    "import cv2\n",
    "import seaborn as sns\n",
    "import pickle\n",
    "import time\n",
    "\n",
    "from tensorflow.keras.preprocessing.image import ImageDataGenerator\n",
    "from tensorflow.keras.utils import to_categorical, plot_model\n",
    "from sklearn.utils import shuffle\n",
    "from sklearn.model_selection import train_test_split\n",
    "from tensorflow.keras.models import Sequential,load_model\n",
    "from tensorflow.keras.layers import Conv2D,MaxPooling2D,Dropout\n",
    "from tensorflow.keras.layers import Dense, GlobalAveragePooling2D\n",
    "from tensorflow.keras.optimizers import RMSprop\n",
    "from tensorflow.keras import models,Model\n",
    "from tensorflow.keras.callbacks import EarlyStopping, ModelCheckpoint, ReduceLROnPlateau"
   ]
  },
  {
   "cell_type": "code",
   "execution_count": 2,
   "metadata": {},
   "outputs": [],
   "source": [
    "DATA_DIR='C:\\g_images\\downloads\\originals'\n",
    "CLASSES = ['cats','dogs','panda','bikes','horse']"
   ]
  },
  {
   "cell_type": "code",
   "execution_count": 4,
   "metadata": {},
   "outputs": [],
   "source": [
    "training_data=[] #list\n",
    "training_label=[]\n",
    "training_data_raw=[] #list\n",
    "training_label_raw=[]\n",
    "\n",
    "img_resize = 250\n",
    "\n",
    "def self_generated_train_data():\n",
    "    for c in CLASSES:\n",
    "        path = os.path.join(DATA_DIR,c)\n",
    "        class_no = CLASSES.index(c)\n",
    "        for img in os.listdir(path):\n",
    "            #print(os.path.join(path,img))\n",
    "            img_array_bgr = cv2.imread(os.path.join(path,img))\n",
    "            rgb_img = cv2.cvtColor(img_array_bgr, cv2.COLOR_BGR2RGB)\n",
    "            rgb_image_resized = cv2.resize(rgb_img,(img_resize,img_resize)) #cv2.resize() follows (width,height) unlike as expected (height, width)\n",
    "            training_data.append(rgb_image_resized) #append array to a list\n",
    "            training_label.append(class_no)\n",
    "            training_data_raw.append(rgb_img) #append array to a list\n",
    "            training_label_raw.append(class_no)\n",
    "            \n",
    "        print(\"Class %d loaded: %s \"%(class_no,c))"
   ]
  },
  {
   "cell_type": "code",
   "execution_count": 5,
   "metadata": {},
   "outputs": [
    {
     "name": "stdout",
     "output_type": "stream",
     "text": [
      "Class 0 loaded: cats \n",
      "Class 1 loaded: dogs \n",
      "Class 2 loaded: panda \n",
      "Class 3 loaded: bikes \n",
      "Class 4 loaded: horse \n"
     ]
    }
   ],
   "source": [
    "self_generated_train_data()"
   ]
  },
  {
   "cell_type": "code",
   "execution_count": 6,
   "metadata": {},
   "outputs": [],
   "source": [
    "pickle_out=open(\"training_data_250px.pickle\",'wb')\n",
    "pickle.dump(training_data,pickle_out)\n",
    "pickle_out.close()\n",
    "\n",
    "pickle_out=open(\"training_label_250px.pickle\",'wb')\n",
    "pickle.dump(training_label,pickle_out)\n",
    "pickle_out.close()\n",
    "\n",
    "pickle_out=open(\"training_data_250px_raw.pickle\",'wb')\n",
    "pickle.dump(training_data_raw,pickle_out)\n",
    "pickle_out.close()"
   ]
  },
  {
   "cell_type": "code",
   "execution_count": null,
   "metadata": {},
   "outputs": [],
   "source": [
    "# to load the resized data\n",
    "pickle_in = open(\"training_data_250px.pickle\",'rb')\n",
    "training_data = pickle.load(pickle_in)\n",
    "\n",
    "pickle_in = open(\"training_data_250px.pickle\",'rb')\n",
    "training_label = pickle.load(pickle_in)\n",
    "\n",
    "pickle_in = open(\"training_data_250px.pickle\",'rb')\n",
    "training_data_raw = pickle.load(pickle_in)"
   ]
  },
  {
   "cell_type": "code",
   "execution_count": 7,
   "metadata": {},
   "outputs": [],
   "source": [
    "# Convert into an array for model input\n",
    "training_data = np.array(training_data)\n",
    "training_label = np.array(training_label)"
   ]
  },
  {
   "cell_type": "code",
   "execution_count": 8,
   "metadata": {},
   "outputs": [
    {
     "name": "stdout",
     "output_type": "stream",
     "text": [
      "Training data shape: (2750, 250, 250, 3)\n",
      "Training label shape: (2750,)\n"
     ]
    }
   ],
   "source": [
    "print(\"Training data shape:\",training_data.shape)\n",
    "print(\"Training label shape:\",training_label.shape)"
   ]
  },
  {
   "cell_type": "code",
   "execution_count": 9,
   "metadata": {},
   "outputs": [
    {
     "data": {
      "text/plain": [
       "<matplotlib.axes._subplots.AxesSubplot at 0x1fc9c7857b8>"
      ]
     },
     "execution_count": 9,
     "metadata": {},
     "output_type": "execute_result"
    },
    {
     "data": {
      "image/png": "[encoded data removed]",
      "text/plain": [
       "<Figure size 432x288 with 1 Axes>"
      ]
     },
     "metadata": {
      "needs_background": "light"
     },
     "output_type": "display_data"
    }
   ],
   "source": [
    "sns.countplot(training_label)"
   ]
  },
  {
   "cell_type": "code",
   "execution_count": 10,
   "metadata": {},
   "outputs": [
    {
     "name": "stdout",
     "output_type": "stream",
     "text": [
      "Class counts: {0: 550, 1: 550, 2: 550, 3: 550, 4: 550}\n"
     ]
    }
   ],
   "source": [
    "Class_label_counters = {label:list(training_label).count(label) for label in list(training_label)}\n",
    "print('Class counts:',Class_label_counters)"
   ]
  },
  {
   "cell_type": "code",
   "execution_count": 11,
   "metadata": {},
   "outputs": [
    {
     "name": "stdout",
     "output_type": "stream",
     "text": [
      "Total Number of classes: 5\n"
     ]
    }
   ],
   "source": [
    "total_classes = len(np.unique(training_label))\n",
    "print('Total Number of classes:',total_classes)"
   ]
  },
  {
   "cell_type": "code",
   "execution_count": 12,
   "metadata": {},
   "outputs": [],
   "source": [
    "y_categorical = to_categorical(training_label,total_classes)"
   ]
  },
  {
   "cell_type": "code",
   "execution_count": 13,
   "metadata": {},
   "outputs": [],
   "source": [
    "# Normalize the data \n",
    "training_data = training_data.astype('float32') / 255."
   ]
  },
  {
   "cell_type": "code",
   "execution_count": 14,
   "metadata": {},
   "outputs": [],
   "source": [
    "#shuffle the dataset\n",
    "x_shuffle,y_shuffle = shuffle(training_data,y_categorical,random_state=14)\n",
    "x_shuffle_raw,_ = shuffle(training_data_raw,y_categorical,random_state=14)"
   ]
  },
  {
   "cell_type": "code",
   "execution_count": 15,
   "metadata": {},
   "outputs": [],
   "source": [
    "# test data split\n",
    "X, X_test, Y, Y_test = train_test_split(x_shuffle,y_shuffle,test_size = 0.10,random_state=15)\n",
    "_, X_test_raw, _, _ = train_test_split(x_shuffle_raw,y_shuffle,test_size = 0.10,random_state=15)"
   ]
  },
  {
   "cell_type": "code",
   "execution_count": 16,
   "metadata": {},
   "outputs": [],
   "source": [
    "# train and valid data split\n",
    "X_train,X_valid,Y_train,Y_valid = train_test_split(X,Y,test_size = 0.20)"
   ]
  },
  {
   "cell_type": "code",
   "execution_count": 17,
   "metadata": {},
   "outputs": [
    {
     "name": "stdout",
     "output_type": "stream",
     "text": [
      "Test data shape after split: (275, 250, 250, 3)\n"
     ]
    }
   ],
   "source": [
    "print(\"Test data shape after split:\",X_test.shape)"
   ]
  },
  {
   "cell_type": "code",
   "execution_count": 18,
   "metadata": {},
   "outputs": [
    {
     "name": "stdout",
     "output_type": "stream",
     "text": [
      "Training data shape after split: (1980, 250, 250, 3)\n",
      "Validation data shape after split: (495, 250, 250, 3)\n"
     ]
    }
   ],
   "source": [
    "print(\"Training data shape after split:\",X_train.shape)\n",
    "print(\"Validation data shape after split:\",X_valid.shape)"
   ]
  },
  {
   "cell_type": "code",
   "execution_count": 19,
   "metadata": {},
   "outputs": [
    {
     "name": "stdout",
     "output_type": "stream",
     "text": [
      "Training label shape after split: (1980, 5)\n",
      "Validation label shape after split: (495, 5)\n"
     ]
    }
   ],
   "source": [
    "print(\"Training label shape after split:\",Y_train.shape)\n",
    "print(\"Validation label shape after split:\",Y_valid.shape)"
   ]
  },
  {
   "cell_type": "code",
   "execution_count": 20,
   "metadata": {},
   "outputs": [],
   "source": [
    "# Hyper-parameters settings\n",
    "image_size = X_train.shape[1]\n",
    "input_shape = (image_size, image_size, 3)\n",
    "batch_size = 40\n",
    "kernel_size = 3\n",
    "pool_size = 2\n",
    "dropout = 0.5"
   ]
  },
  {
   "cell_type": "code",
   "execution_count": 21,
   "metadata": {},
   "outputs": [
    {
     "name": "stderr",
     "output_type": "stream",
     "text": [
      "WARNING: Logging before flag parsing goes to stderr.\n",
      "W0908 20:52:08.825170  4168 deprecation.py:506] From C:\\ProgramData\\Anaconda3\\envs\\tf_gpu\\lib\\site-packages\\tensorflow\\python\\ops\\init_ops.py:1251: calling VarianceScaling.__init__ (from tensorflow.python.ops.init_ops) with dtype is deprecated and will be removed in a future version.\n",
      "Instructions for updating:\n",
      "Call initializer instance with the dtype argument instead of passing it to the constructor\n"
     ]
    }
   ],
   "source": [
    "model = Sequential()\n",
    "\n",
    "model.add(Conv2D(filters=16,kernel_size=kernel_size,activation='relu',input_shape=input_shape,))\n",
    "model.add(MaxPooling2D(pool_size))\n",
    "\n",
    "model.add(Conv2D(filters=16,kernel_size=kernel_size,activation='relu'))\n",
    "model.add(Conv2D(filters=16,kernel_size=kernel_size,activation='relu'))\n",
    "model.add(Conv2D(filters=32,kernel_size=kernel_size,activation='relu'))\n",
    "\n",
    "model.add(Conv2D(filters=32,kernel_size=kernel_size,activation='relu'))\n",
    "model.add(MaxPooling2D(pool_size))\n",
    "#model.add(Dropout(dropout))\n",
    "\n",
    "model.add(Conv2D(filters=64,kernel_size=kernel_size,activation='relu'))\n",
    "model.add(Conv2D(filters=64,kernel_size=kernel_size,activation='relu'))\n",
    "model.add(Conv2D(filters=64,kernel_size=kernel_size,activation='relu'))\n",
    "model.add(MaxPooling2D(pool_size))\n",
    "#model.add(Dropout(dropout))\n",
    "\n",
    "model.add(Conv2D(filters=64,kernel_size=kernel_size,activation='relu'))\n",
    "model.add(Conv2D(filters=128,kernel_size=kernel_size,activation='relu'))\n",
    "model.add(Conv2D(filters=128,kernel_size=kernel_size,activation='relu'))\n",
    "\n",
    "\n",
    "model.add(GlobalAveragePooling2D())\n",
    "\n",
    "model.add(Dense(total_classes, activation='softmax')) # output layer is 5-dim one-hot vector\n"
   ]
  },
  {
   "cell_type": "code",
   "execution_count": 22,
   "metadata": {},
   "outputs": [
    {
     "name": "stdout",
     "output_type": "stream",
     "text": [
      "Model: \"sequential\"\n",
      "_________________________________________________________________\n",
      "Layer (type)                 Output Shape              Param #   \n",
      "=================================================================\n",
      "conv2d (Conv2D)              (None, 248, 248, 16)      448       \n",
      "_________________________________________________________________\n",
      "max_pooling2d (MaxPooling2D) (None, 124, 124, 16)      0         \n",
      "_________________________________________________________________\n",
      "conv2d_1 (Conv2D)            (None, 122, 122, 16)      2320      \n",
      "_________________________________________________________________\n",
      "conv2d_2 (Conv2D)            (None, 120, 120, 16)      2320      \n",
      "_________________________________________________________________\n",
      "conv2d_3 (Conv2D)            (None, 118, 118, 32)      4640      \n",
      "_________________________________________________________________\n",
      "conv2d_4 (Conv2D)            (None, 116, 116, 32)      9248      \n",
      "_________________________________________________________________\n",
      "max_pooling2d_1 (MaxPooling2 (None, 58, 58, 32)        0         \n",
      "_________________________________________________________________\n",
      "conv2d_5 (Conv2D)            (None, 56, 56, 64)        18496     \n",
      "_________________________________________________________________\n",
      "conv2d_6 (Conv2D)            (None, 54, 54, 64)        36928     \n",
      "_________________________________________________________________\n",
      "conv2d_7 (Conv2D)            (None, 52, 52, 64)        36928     \n",
      "_________________________________________________________________\n",
      "max_pooling2d_2 (MaxPooling2 (None, 26, 26, 64)        0         \n",
      "_________________________________________________________________\n",
      "conv2d_8 (Conv2D)            (None, 24, 24, 64)        36928     \n",
      "_________________________________________________________________\n",
      "conv2d_9 (Conv2D)            (None, 22, 22, 128)       73856     \n",
      "_________________________________________________________________\n",
      "conv2d_10 (Conv2D)           (None, 20, 20, 128)       147584    \n",
      "_________________________________________________________________\n",
      "global_average_pooling2d (Gl (None, 128)               0         \n",
      "_________________________________________________________________\n",
      "dense (Dense)                (None, 5)                 645       \n",
      "=================================================================\n",
      "Total params: 370,341\n",
      "Trainable params: 370,341\n",
      "Non-trainable params: 0\n",
      "_________________________________________________________________\n"
     ]
    }
   ],
   "source": [
    "model.summary()"
   ]
  },
  {
   "cell_type": "code",
   "execution_count": 23,
   "metadata": {},
   "outputs": [],
   "source": [
    "# loss function for one-hot vector encoding is categorical_crossentropy\n",
    "model.compile(loss='categorical_crossentropy',optimizer='adam',metrics=['accuracy'])\n",
    "#model.compile(loss='categorical_crossentropy', optimizer='rmsprop', metrics=['accuracy'])"
   ]
  },
  {
   "cell_type": "code",
   "execution_count": 24,
   "metadata": {},
   "outputs": [
    {
     "data": {
      "text/plain": [
       "(None, 128)"
      ]
     },
     "execution_count": 24,
     "metadata": {},
     "output_type": "execute_result"
    }
   ],
   "source": [
    "model.layers[-2].output_shape #GAP layer"
   ]
  },
  {
   "cell_type": "code",
   "execution_count": 25,
   "metadata": {},
   "outputs": [],
   "source": [
    "early_stopping = EarlyStopping(monitor='val_loss',\n",
    "                                       min_delta=0.001,\n",
    "                                       patience=10,\n",
    "                                       verbose=1, \n",
    "                                       mode='min',\n",
    "                                       restore_best_weights=True)"
   ]
  },
  {
   "cell_type": "code",
   "execution_count": 26,
   "metadata": {},
   "outputs": [],
   "source": [
    "model_checkpoint = ModelCheckpoint('best_model_CAM.h5', monitor='val_acc', mode='max', verbose=1, save_best_only=True)"
   ]
  },
  {
   "cell_type": "code",
   "execution_count": 27,
   "metadata": {},
   "outputs": [],
   "source": [
    "reduce_LR_OnPlateau = ReduceLROnPlateau(monitor='val_loss',\n",
    "                                        factor=0.1,\n",
    "                                        patience=5)"
   ]
  },
  {
   "cell_type": "code",
   "execution_count": 28,
   "metadata": {},
   "outputs": [],
   "source": [
    "# Training the convnet using data-augmentation generators\n",
    "train_datagen = ImageDataGenerator(\n",
    "    rotation_range=20,\n",
    "    width_shift_range=0.2,\n",
    "    height_shift_range=0.2,\n",
    "    shear_range=0.2,\n",
    "    zoom_range=0.2,\n",
    "    horizontal_flip=True,\n",
    "    fill_mode=\"nearest\")"
   ]
  },
  {
   "cell_type": "code",
   "execution_count": 29,
   "metadata": {},
   "outputs": [
    {
     "name": "stdout",
     "output_type": "stream",
     "text": [
      "Number of Batches 31\n"
     ]
    }
   ],
   "source": [
    "training_batch_size = 64\n",
    "train_generator = train_datagen.flow(X_train, y = Y_train,batch_size = training_batch_size)\n",
    "print(\"Number of Batches\",len(train_generator))"
   ]
  },
  {
   "cell_type": "code",
   "execution_count": 30,
   "metadata": {},
   "outputs": [],
   "source": [
    "# OR validation dataset can also be augmented only if validation consists of normal data that doesn't matches with training data\n",
    "validation_datagen = ImageDataGenerator(\n",
    "    rotation_range=20,\n",
    "    width_shift_range=0.2,\n",
    "    height_shift_range=0.2,\n",
    "    shear_range=0.2,\n",
    "    zoom_range=0.2,\n",
    "    horizontal_flip=True,\n",
    "    fill_mode=\"nearest\")"
   ]
  },
  {
   "cell_type": "code",
   "execution_count": 31,
   "metadata": {},
   "outputs": [
    {
     "name": "stdout",
     "output_type": "stream",
     "text": [
      "Number of Batches 16\n"
     ]
    }
   ],
   "source": [
    "validation_batch_size = 32\n",
    "validation_generator = validation_datagen.flow(X_valid,y= Y_valid,batch_size=validation_batch_size)\n",
    "print(\"Number of Batches\",len(validation_generator))"
   ]
  },
  {
   "cell_type": "code",
   "execution_count": 32,
   "metadata": {
    "scrolled": false
   },
   "outputs": [
    {
     "name": "stdout",
     "output_type": "stream",
     "text": [
      "Epoch 1/200\n",
      "29/30 [============================>.] - ETA: 2s - loss: 1.6096 - acc: 0.2052\n",
      "Epoch 00001: val_acc improved from -inf to 0.37917, saving model to best_model_CAM.h5\n",
      "30/30 [==============================] - 108s 4s/step - loss: 1.6080 - acc: 0.2062 - val_loss: 1.5623 - val_acc: 0.3792\n",
      "Epoch 2/200\n",
      "29/30 [============================>.] - ETA: 2s - loss: 1.5124 - acc: 0.3207\n",
      "Epoch 00002: val_acc did not improve from 0.37917\n",
      "30/30 [==============================] - 106s 4s/step - loss: 1.5084 - acc: 0.3231 - val_loss: 1.5519 - val_acc: 0.3604\n",
      "Epoch 3/200\n",
      "29/30 [============================>.] - ETA: 2s - loss: 1.4240 - acc: 0.3596\n",
      "Epoch 00003: val_acc did not improve from 0.37917\n",
      "30/30 [==============================] - 110s 4s/step - loss: 1.4228 - acc: 0.3586 - val_loss: 1.3827 - val_acc: 0.3604\n",
      "Epoch 4/200\n",
      "29/30 [============================>.] - ETA: 2s - loss: 1.3823 - acc: 0.4133\n",
      "Epoch 00004: val_acc improved from 0.37917 to 0.41042, saving model to best_model_CAM.h5\n",
      "30/30 [==============================] - 109s 4s/step - loss: 1.3747 - acc: 0.4141 - val_loss: 1.2951 - val_acc: 0.4104\n",
      "Epoch 5/200\n",
      "29/30 [============================>.] - ETA: 2s - loss: 1.2446 - acc: 0.4313\n",
      "Epoch 00005: val_acc improved from 0.41042 to 0.52708, saving model to best_model_CAM.h5\n",
      "30/30 [==============================] - 104s 3s/step - loss: 1.2424 - acc: 0.4315 - val_loss: 1.1275 - val_acc: 0.5271\n",
      "Epoch 6/200\n",
      "29/30 [============================>.] - ETA: 2s - loss: 1.0822 - acc: 0.5210\n",
      "Epoch 00006: val_acc improved from 0.52708 to 0.53542, saving model to best_model_CAM.h5\n",
      "30/30 [==============================] - 103s 3s/step - loss: 1.0835 - acc: 0.5188 - val_loss: 0.9853 - val_acc: 0.5354\n",
      "Epoch 7/200\n",
      "29/30 [============================>.] - ETA: 2s - loss: 1.0765 - acc: 0.4968\n",
      "Epoch 00007: val_acc improved from 0.53542 to 0.54167, saving model to best_model_CAM.h5\n",
      "30/30 [==============================] - 101s 3s/step - loss: 1.0780 - acc: 0.4963 - val_loss: 0.9861 - val_acc: 0.5417\n",
      "Epoch 8/200\n",
      "29/30 [============================>.] - ETA: 2s - loss: 1.0599 - acc: 0.5043\n",
      "Epoch 00008: val_acc did not improve from 0.54167\n",
      "30/30 [==============================] - 98s 3s/step - loss: 1.0620 - acc: 0.5031 - val_loss: 0.9648 - val_acc: 0.5333\n",
      "Epoch 9/200\n",
      "29/30 [============================>.] - ETA: 2s - loss: 0.9396 - acc: 0.5740\n",
      "Epoch 00009: val_acc improved from 0.54167 to 0.59792, saving model to best_model_CAM.h5\n",
      "30/30 [==============================] - 94s 3s/step - loss: 0.9345 - acc: 0.5757 - val_loss: 0.8740 - val_acc: 0.5979\n",
      "Epoch 10/200\n",
      "29/30 [============================>.] - ETA: 2s - loss: 0.9550 - acc: 0.5372\n",
      "Epoch 00010: val_acc did not improve from 0.59792\n",
      "30/30 [==============================] - 93s 3s/step - loss: 0.9564 - acc: 0.5354 - val_loss: 0.9066 - val_acc: 0.5562\n",
      "Epoch 11/200\n",
      "29/30 [============================>.] - ETA: 2s - loss: 0.9476 - acc: 0.5741\n",
      "Epoch 00011: val_acc improved from 0.59792 to 0.60208, saving model to best_model_CAM.h5\n",
      "30/30 [==============================] - 94s 3s/step - loss: 0.9483 - acc: 0.5753 - val_loss: 0.9039 - val_acc: 0.6021\n",
      "Epoch 12/200\n",
      "29/30 [============================>.] - ETA: 2s - loss: 0.9295 - acc: 0.5663\n",
      "Epoch 00012: val_acc did not improve from 0.60208\n",
      "30/30 [==============================] - 93s 3s/step - loss: 0.9253 - acc: 0.5677 - val_loss: 0.8878 - val_acc: 0.5917\n",
      "Epoch 13/200\n",
      "29/30 [============================>.] - ETA: 2s - loss: 0.9180 - acc: 0.5664\n",
      "Epoch 00013: val_acc improved from 0.60208 to 0.61042, saving model to best_model_CAM.h5\n",
      "30/30 [==============================] - 90s 3s/step - loss: 0.9217 - acc: 0.5658 - val_loss: 0.8767 - val_acc: 0.6104\n",
      "Epoch 14/200\n",
      "29/30 [============================>.] - ETA: 2s - loss: 0.8803 - acc: 0.6010\n",
      "Epoch 00014: val_acc improved from 0.61042 to 0.62500, saving model to best_model_CAM.h5\n",
      "30/30 [==============================] - 90s 3s/step - loss: 0.8865 - acc: 0.5966 - val_loss: 0.8174 - val_acc: 0.6250\n",
      "Epoch 15/200\n",
      "29/30 [============================>.] - ETA: 2s - loss: 0.9191 - acc: 0.5886\n",
      "Epoch 00015: val_acc did not improve from 0.62500\n",
      "30/30 [==============================] - 90s 3s/step - loss: 0.9286 - acc: 0.5840 - val_loss: 0.9636 - val_acc: 0.5583\n",
      "Epoch 16/200\n",
      "29/30 [============================>.] - ETA: 2s - loss: 0.9394 - acc: 0.5812\n",
      "Epoch 00016: val_acc did not improve from 0.62500\n",
      "30/30 [==============================] - 92s 3s/step - loss: 0.9359 - acc: 0.5826 - val_loss: 0.8944 - val_acc: 0.5854\n",
      "Epoch 17/200\n",
      "29/30 [============================>.] - ETA: 2s - loss: 0.8692 - acc: 0.6008\n",
      "Epoch 00017: val_acc did not improve from 0.62500\n",
      "30/30 [==============================] - 93s 3s/step - loss: 0.8715 - acc: 0.6021 - val_loss: 0.8502 - val_acc: 0.6146\n",
      "Epoch 18/200\n",
      "29/30 [============================>.] - ETA: 2s - loss: 0.8395 - acc: 0.6134\n",
      "Epoch 00018: val_acc did not improve from 0.62500\n",
      "30/30 [==============================] - 87s 3s/step - loss: 0.8507 - acc: 0.6101 - val_loss: 0.9098 - val_acc: 0.5917\n",
      "Epoch 19/200\n",
      "29/30 [============================>.] - ETA: 2s - loss: 0.8721 - acc: 0.6177\n",
      "Epoch 00019: val_acc improved from 0.62500 to 0.64583, saving model to best_model_CAM.h5\n",
      "30/30 [==============================] - 89s 3s/step - loss: 0.8735 - acc: 0.6169 - val_loss: 0.8018 - val_acc: 0.6458\n",
      "Epoch 20/200\n",
      "29/30 [============================>.] - ETA: 2s - loss: 0.8401 - acc: 0.6261\n",
      "Epoch 00020: val_acc did not improve from 0.64583\n",
      "30/30 [==============================] - 87s 3s/step - loss: 0.8383 - acc: 0.6276 - val_loss: 0.8021 - val_acc: 0.6250\n",
      "Epoch 21/200\n",
      "29/30 [============================>.] - ETA: 2s - loss: 0.8053 - acc: 0.6509\n",
      "Epoch 00021: val_acc did not improve from 0.64583\n",
      "30/30 [==============================] - 84s 3s/step - loss: 0.7997 - acc: 0.6531 - val_loss: 0.7671 - val_acc: 0.6292\n",
      "Epoch 22/200\n",
      "29/30 [============================>.] - ETA: 2s - loss: 0.7931 - acc: 0.6523\n",
      "Epoch 00022: val_acc improved from 0.64583 to 0.65625, saving model to best_model_CAM.h5\n",
      "30/30 [==============================] - 88s 3s/step - loss: 0.7966 - acc: 0.6512 - val_loss: 0.7736 - val_acc: 0.6562\n",
      "Epoch 23/200\n",
      "29/30 [============================>.] - ETA: 2s - loss: 0.7946 - acc: 0.6573\n",
      "Epoch 00023: val_acc did not improve from 0.65625\n",
      "30/30 [==============================] - 90s 3s/step - loss: 0.7911 - acc: 0.6573 - val_loss: 0.8548 - val_acc: 0.6354\n",
      "Epoch 24/200\n",
      "29/30 [============================>.] - ETA: 2s - loss: 0.7677 - acc: 0.6661\n",
      "Epoch 00024: val_acc improved from 0.65625 to 0.69167, saving model to best_model_CAM.h5\n",
      "30/30 [==============================] - 91s 3s/step - loss: 0.7585 - acc: 0.6705 - val_loss: 0.7082 - val_acc: 0.6917\n",
      "Epoch 25/200\n",
      "29/30 [============================>.] - ETA: 2s - loss: 0.7678 - acc: 0.6633\n",
      "Epoch 00025: val_acc did not improve from 0.69167\n",
      "30/30 [==============================] - 89s 3s/step - loss: 0.7664 - acc: 0.6630 - val_loss: 0.7193 - val_acc: 0.6833\n",
      "Epoch 26/200\n",
      "29/30 [============================>.] - ETA: 2s - loss: 0.7093 - acc: 0.6992\n",
      "Epoch 00026: val_acc improved from 0.69167 to 0.70208, saving model to best_model_CAM.h5\n",
      "30/30 [==============================] - 91s 3s/step - loss: 0.7065 - acc: 0.7008 - val_loss: 0.6956 - val_acc: 0.7021\n",
      "Epoch 27/200\n",
      "29/30 [============================>.] - ETA: 2s - loss: 0.7490 - acc: 0.6886\n",
      "Epoch 00027: val_acc improved from 0.70208 to 0.70625, saving model to best_model_CAM.h5\n",
      "30/30 [==============================] - 90s 3s/step - loss: 0.7452 - acc: 0.6880 - val_loss: 0.6695 - val_acc: 0.7063\n",
      "Epoch 28/200\n",
      "29/30 [============================>.] - ETA: 2s - loss: 0.6762 - acc: 0.7030\n",
      "Epoch 00028: val_acc improved from 0.70625 to 0.71042, saving model to best_model_CAM.h5\n",
      "30/30 [==============================] - 91s 3s/step - loss: 0.6813 - acc: 0.7015 - val_loss: 0.6545 - val_acc: 0.7104\n",
      "Epoch 29/200\n",
      "29/30 [============================>.] - ETA: 2s - loss: 0.6932 - acc: 0.7019\n",
      "Epoch 00029: val_acc did not improve from 0.71042\n",
      "30/30 [==============================] - 89s 3s/step - loss: 0.6882 - acc: 0.7051 - val_loss: 0.7378 - val_acc: 0.6667\n",
      "Epoch 30/200\n",
      "29/30 [============================>.] - ETA: 2s - loss: 0.6703 - acc: 0.7122\n",
      "Epoch 00030: val_acc did not improve from 0.71042\n",
      "30/30 [==============================] - 90s 3s/step - loss: 0.6675 - acc: 0.7166 - val_loss: 0.8206 - val_acc: 0.6458\n",
      "Epoch 31/200\n",
      "29/30 [============================>.] - ETA: 2s - loss: 0.7187 - acc: 0.7025\n",
      "Epoch 00031: val_acc did not improve from 0.71042\n",
      "30/30 [==============================] - 89s 3s/step - loss: 0.7161 - acc: 0.7035 - val_loss: 0.7999 - val_acc: 0.6479\n",
      "Epoch 32/200\n",
      "29/30 [============================>.] - ETA: 2s - loss: 0.6941 - acc: 0.7063\n",
      "Epoch 00032: val_acc did not improve from 0.71042\n",
      "30/30 [==============================] - 90s 3s/step - loss: 0.7016 - acc: 0.7046 - val_loss: 0.6944 - val_acc: 0.6958\n",
      "Epoch 33/200\n",
      "29/30 [============================>.] - ETA: 2s - loss: 0.6838 - acc: 0.7133\n",
      "Epoch 00033: val_acc improved from 0.71042 to 0.73125, saving model to best_model_CAM.h5\n",
      "30/30 [==============================] - 109s 4s/step - loss: 0.6814 - acc: 0.7156 - val_loss: 0.6217 - val_acc: 0.7312\n",
      "Epoch 34/200\n",
      "29/30 [============================>.] - ETA: 2s - loss: 0.6367 - acc: 0.7106\n",
      "Epoch 00034: val_acc did not improve from 0.73125\n",
      "30/30 [==============================] - 111s 4s/step - loss: 0.6342 - acc: 0.7150 - val_loss: 0.6391 - val_acc: 0.7292\n",
      "Epoch 35/200\n",
      "29/30 [============================>.] - ETA: 2s - loss: 0.6381 - acc: 0.7387\n",
      "Epoch 00035: val_acc did not improve from 0.73125\n",
      "30/30 [==============================] - 106s 4s/step - loss: 0.6406 - acc: 0.7365 - val_loss: 0.6377 - val_acc: 0.7125\n",
      "Epoch 36/200\n",
      "29/30 [============================>.] - ETA: 2s - loss: 0.6205 - acc: 0.7343\n",
      "Epoch 00036: val_acc improved from 0.73125 to 0.76458, saving model to best_model_CAM.h5\n",
      "30/30 [==============================] - 106s 4s/step - loss: 0.6229 - acc: 0.7333 - val_loss: 0.6036 - val_acc: 0.7646\n",
      "Epoch 37/200\n",
      "29/30 [============================>.] - ETA: 2s - loss: 0.5950 - acc: 0.7478\n",
      "Epoch 00037: val_acc did not improve from 0.76458\n",
      "30/30 [==============================] - 103s 3s/step - loss: 0.5938 - acc: 0.7490 - val_loss: 0.5869 - val_acc: 0.7500\n",
      "Epoch 38/200\n",
      "29/30 [============================>.] - ETA: 2s - loss: 0.5729 - acc: 0.7495\n",
      "Epoch 00038: val_acc did not improve from 0.76458\n",
      "30/30 [==============================] - 96s 3s/step - loss: 0.5730 - acc: 0.7510 - val_loss: 0.6267 - val_acc: 0.7521\n",
      "Epoch 39/200\n",
      "29/30 [============================>.] - ETA: 2s - loss: 0.5771 - acc: 0.7549\n",
      "Epoch 00039: val_acc did not improve from 0.76458\n",
      "30/30 [==============================] - 91s 3s/step - loss: 0.5797 - acc: 0.7526 - val_loss: 0.5671 - val_acc: 0.7646\n",
      "Epoch 40/200\n",
      "29/30 [============================>.] - ETA: 2s - loss: 0.6024 - acc: 0.7414\n",
      "Epoch 00040: val_acc did not improve from 0.76458\n",
      "30/30 [==============================] - 102s 3s/step - loss: 0.5980 - acc: 0.7443 - val_loss: 0.6189 - val_acc: 0.7458\n",
      "Epoch 41/200\n",
      "29/30 [============================>.] - ETA: 2s - loss: 0.5909 - acc: 0.7613\n",
      "Epoch 00041: val_acc did not improve from 0.76458\n",
      "30/30 [==============================] - 99s 3s/step - loss: 0.5891 - acc: 0.7599 - val_loss: 0.5927 - val_acc: 0.7396\n",
      "Epoch 42/200\n",
      "29/30 [============================>.] - ETA: 2s - loss: 0.5718 - acc: 0.7624\n",
      "Epoch 00042: val_acc did not improve from 0.76458\n",
      "30/30 [==============================] - 94s 3s/step - loss: 0.5707 - acc: 0.7620 - val_loss: 0.6104 - val_acc: 0.7396\n",
      "Epoch 43/200\n",
      "29/30 [============================>.] - ETA: 2s - loss: 0.6192 - acc: 0.7505\n",
      "Epoch 00043: val_acc did not improve from 0.76458\n",
      "30/30 [==============================] - 92s 3s/step - loss: 0.6179 - acc: 0.7516 - val_loss: 0.6560 - val_acc: 0.7229\n",
      "Epoch 44/200\n",
      "29/30 [============================>.] - ETA: 2s - loss: 0.5542 - acc: 0.7738\n",
      "Epoch 00044: val_acc did not improve from 0.76458\n",
      "30/30 [==============================] - 88s 3s/step - loss: 0.5553 - acc: 0.7735 - val_loss: 0.6713 - val_acc: 0.7104\n",
      "Epoch 45/200\n",
      "29/30 [============================>.] - ETA: 2s - loss: 0.5181 - acc: 0.7792\n",
      "Epoch 00045: val_acc did not improve from 0.76458\n",
      "30/30 [==============================] - 87s 3s/step - loss: 0.5138 - acc: 0.7808 - val_loss: 0.5637 - val_acc: 0.7563\n",
      "Epoch 46/200\n",
      "29/30 [============================>.] - ETA: 2s - loss: 0.4801 - acc: 0.8057\n",
      "Epoch 00046: val_acc improved from 0.76458 to 0.77708, saving model to best_model_CAM.h5\n",
      "30/30 [==============================] - 88s 3s/step - loss: 0.4812 - acc: 0.8039 - val_loss: 0.5250 - val_acc: 0.7771\n",
      "Epoch 47/200\n",
      "29/30 [============================>.] - ETA: 2s - loss: 0.4778 - acc: 0.7981\n",
      "Epoch 00047: val_acc improved from 0.77708 to 0.79375, saving model to best_model_CAM.h5\n",
      "30/30 [==============================] - 87s 3s/step - loss: 0.4731 - acc: 0.8006 - val_loss: 0.5274 - val_acc: 0.7937\n",
      "Epoch 48/200\n",
      "29/30 [============================>.] - ETA: 2s - loss: 0.4872 - acc: 0.7845\n",
      "Epoch 00048: val_acc did not improve from 0.79375\n",
      "30/30 [==============================] - 88s 3s/step - loss: 0.4886 - acc: 0.7833 - val_loss: 0.5459 - val_acc: 0.7812\n",
      "Epoch 49/200\n",
      "29/30 [============================>.] - ETA: 2s - loss: 0.4266 - acc: 0.8247\n",
      "Epoch 00049: val_acc did not improve from 0.79375\n",
      "30/30 [==============================] - 92s 3s/step - loss: 0.4287 - acc: 0.8232 - val_loss: 0.5236 - val_acc: 0.7833\n",
      "Epoch 50/200\n",
      "29/30 [============================>.] - ETA: 2s - loss: 0.4665 - acc: 0.8170\n",
      "Epoch 00050: val_acc improved from 0.79375 to 0.80000, saving model to best_model_CAM.h5\n",
      "30/30 [==============================] - 90s 3s/step - loss: 0.4652 - acc: 0.8163 - val_loss: 0.4846 - val_acc: 0.8000\n",
      "Epoch 51/200\n",
      "29/30 [============================>.] - ETA: 2s - loss: 0.4625 - acc: 0.8029\n",
      "Epoch 00051: val_acc did not improve from 0.80000\n",
      "30/30 [==============================] - 89s 3s/step - loss: 0.4630 - acc: 0.8027 - val_loss: 0.5032 - val_acc: 0.7646\n",
      "Epoch 52/200\n",
      "29/30 [============================>.] - ETA: 2s - loss: 0.4707 - acc: 0.8050\n",
      "Epoch 00052: val_acc did not improve from 0.80000\n",
      "30/30 [==============================] - 91s 3s/step - loss: 0.4688 - acc: 0.8062 - val_loss: 0.5041 - val_acc: 0.7833\n",
      "Epoch 53/200\n",
      "29/30 [============================>.] - ETA: 2s - loss: 0.4512 - acc: 0.8171\n",
      "Epoch 00053: val_acc did not improve from 0.80000\n",
      "30/30 [==============================] - 91s 3s/step - loss: 0.4546 - acc: 0.8149 - val_loss: 0.4830 - val_acc: 0.7833\n",
      "Epoch 54/200\n",
      "29/30 [============================>.] - ETA: 2s - loss: 0.4732 - acc: 0.8017\n",
      "Epoch 00054: val_acc did not improve from 0.80000\n",
      "30/30 [==============================] - 90s 3s/step - loss: 0.4737 - acc: 0.8021 - val_loss: 0.4871 - val_acc: 0.7792\n",
      "Epoch 55/200\n",
      "29/30 [============================>.] - ETA: 2s - loss: 0.4651 - acc: 0.8099\n",
      "Epoch 00055: val_acc did not improve from 0.80000\n",
      "30/30 [==============================] - 90s 3s/step - loss: 0.4643 - acc: 0.8100 - val_loss: 0.5177 - val_acc: 0.7812\n",
      "Epoch 56/200\n",
      "29/30 [============================>.] - ETA: 2s - loss: 0.4618 - acc: 0.7997\n",
      "Epoch 00056: val_acc did not improve from 0.80000\n",
      "30/30 [==============================] - 90s 3s/step - loss: 0.4627 - acc: 0.8006 - val_loss: 0.5482 - val_acc: 0.7812\n",
      "Epoch 57/200\n",
      "29/30 [============================>.] - ETA: 2s - loss: 0.4678 - acc: 0.8176\n",
      "Epoch 00057: val_acc did not improve from 0.80000\n",
      "30/30 [==============================] - 91s 3s/step - loss: 0.4697 - acc: 0.8159 - val_loss: 0.5209 - val_acc: 0.7875\n",
      "Epoch 58/200\n",
      "29/30 [============================>.] - ETA: 2s - loss: 0.4370 - acc: 0.8195\n",
      "Epoch 00058: val_acc did not improve from 0.80000\n",
      "30/30 [==============================] - 91s 3s/step - loss: 0.4369 - acc: 0.8208 - val_loss: 0.5088 - val_acc: 0.7937\n",
      "Epoch 59/200\n",
      "29/30 [============================>.] - ETA: 2s - loss: 0.4520 - acc: 0.8137\n",
      "Epoch 00059: val_acc did not improve from 0.80000\n",
      "30/30 [==============================] - 89s 3s/step - loss: 0.4571 - acc: 0.8107 - val_loss: 0.5104 - val_acc: 0.7688\n",
      "Epoch 60/200\n",
      "29/30 [============================>.] - ETA: 2s - loss: 0.4250 - acc: 0.8179\n",
      "Epoch 00060: val_acc did not improve from 0.80000\n",
      "30/30 [==============================] - 91s 3s/step - loss: 0.4334 - acc: 0.8156 - val_loss: 0.5307 - val_acc: 0.7646\n"
     ]
    },
    {
     "name": "stdout",
     "output_type": "stream",
     "text": [
      "Epoch 61/200\n",
      "29/30 [============================>.] - ETA: 2s - loss: 0.4351 - acc: 0.8159\n",
      "Epoch 00061: val_acc did not improve from 0.80000\n",
      "30/30 [==============================] - 91s 3s/step - loss: 0.4340 - acc: 0.8152 - val_loss: 0.5163 - val_acc: 0.7875\n",
      "Epoch 62/200\n",
      "29/30 [============================>.] - ETA: 2s - loss: 0.4319 - acc: 0.8224\n",
      "Epoch 00062: val_acc did not improve from 0.80000\n",
      "30/30 [==============================] - 87s 3s/step - loss: 0.4320 - acc: 0.8231 - val_loss: 0.5166 - val_acc: 0.7833\n",
      "Epoch 63/200\n",
      "29/30 [============================>.] - ETA: 2s - loss: 0.4426 - acc: 0.8213Restoring model weights from the end of the best epoch.\n",
      "\n",
      "Epoch 00063: val_acc did not improve from 0.80000\n",
      "30/30 [==============================] - 83s 3s/step - loss: 0.4407 - acc: 0.8215 - val_loss: 0.4834 - val_acc: 0.7833\n",
      "Epoch 00063: early stopping\n"
     ]
    }
   ],
   "source": [
    "history = model.fit_generator(\n",
    "    train_generator,\n",
    "    steps_per_epoch = X_train.shape[0]//training_batch_size,\n",
    "    epochs = 200,\n",
    "    validation_data = validation_generator,\n",
    "    validation_steps = X_valid.shape[0]//validation_batch_size,\n",
    "    callbacks=[early_stopping,model_checkpoint,reduce_LR_OnPlateau])"
   ]
  },
  {
   "cell_type": "code",
   "execution_count": null,
   "metadata": {
    "scrolled": false
   },
   "outputs": [],
   "source": [
    "# # train the network\n",
    "# history = model.fit(X_train, Y_train, \n",
    "#                     epochs=60, \n",
    "#                     batch_size=batch_size,\n",
    "#                     validation_data = (X_valid,Y_valid),\n",
    "#                     callbacks=[early_stopping,model_checkpoint,reduce_LR_OnPlateau])"
   ]
  },
  {
   "cell_type": "code",
   "execution_count": 33,
   "metadata": {},
   "outputs": [
    {
     "data": {
      "image/png": "[encoded data removed]",
      "text/plain": [
       "<Figure size 432x288 with 1 Axes>"
      ]
     },
     "metadata": {
      "needs_background": "light"
     },
     "output_type": "display_data"
    },
    {
     "data": {
      "image/png": "[encoded data removed]",
      "text/plain": [
       "<Figure size 432x288 with 1 Axes>"
      ]
     },
     "metadata": {
      "needs_background": "light"
     },
     "output_type": "display_data"
    }
   ],
   "source": [
    "acc = history.history['acc']\n",
    "val_acc = history.history['val_acc']\n",
    "loss = history.history['loss']\n",
    "val_loss = history.history['val_loss']\n",
    "epochs = range(1, len(acc) + 1)\n",
    "\n",
    "plt.plot(epochs, acc, 'bo', label='Training acc')\n",
    "plt.plot(epochs, val_acc, 'b', label='Validation acc')\n",
    "plt.title('Training and validation accuracy')\n",
    "plt.legend()\n",
    "\n",
    "plt.figure()\n",
    "plt.plot(epochs, loss, 'bo', label='Training loss')\n",
    "plt.plot(epochs, val_loss, 'b', label='Validation loss')\n",
    "plt.title('Training and validation loss')\n",
    "plt.legend()\n",
    "plt.show()"
   ]
  },
  {
   "cell_type": "code",
   "execution_count": 34,
   "metadata": {},
   "outputs": [],
   "source": [
    "model.save('cam_model.h5')"
   ]
  },
  {
   "cell_type": "code",
   "execution_count": 55,
   "metadata": {},
   "outputs": [
    {
     "name": "stdout",
     "output_type": "stream",
     "text": [
      "495/495 [==============================] - 5s 11ms/sample - loss: 0.4939 - acc: 0.8000\n"
     ]
    },
    {
     "data": {
      "text/plain": [
       "[0.4939290141818499, 0.8]"
      ]
     },
     "execution_count": 55,
     "metadata": {},
     "output_type": "execute_result"
    }
   ],
   "source": [
    "model.evaluate(X_test,Y_test)"
   ]
  },
  {
   "cell_type": "code",
   "execution_count": 36,
   "metadata": {},
   "outputs": [
    {
     "data": {
      "text/plain": [
       "'dense'"
      ]
     },
     "execution_count": 36,
     "metadata": {},
     "output_type": "execute_result"
    }
   ],
   "source": [
    "model.layers[-1].name #last layer name"
   ]
  },
  {
   "cell_type": "code",
   "execution_count": 37,
   "metadata": {},
   "outputs": [],
   "source": [
    "classifier_weights = model.layers[-1].get_weights()[0] #last layer weights"
   ]
  },
  {
   "cell_type": "code",
   "execution_count": 38,
   "metadata": {},
   "outputs": [
    {
     "name": "stdout",
     "output_type": "stream",
     "text": [
      "Shape of Weight:  (128, 5)\n"
     ]
    }
   ],
   "source": [
    "print('Shape of Weight: ',classifier_weights.shape)"
   ]
  },
  {
   "cell_type": "code",
   "execution_count": 39,
   "metadata": {},
   "outputs": [],
   "source": [
    "# create new model that will return two output\n",
    "cam_model = Model(inputs=model.input,\n",
    "                  outputs=(model.layers[-3].output, model.layers[-1].output)) "
   ]
  },
  {
   "cell_type": "code",
   "execution_count": 40,
   "metadata": {},
   "outputs": [],
   "source": [
    "Activation_maps, Predict_prob = cam_model.predict(X_test)"
   ]
  },
  {
   "cell_type": "code",
   "execution_count": 41,
   "metadata": {},
   "outputs": [
    {
     "name": "stdout",
     "output_type": "stream",
     "text": [
      "Total Activation maps: 275\n",
      "Activation shape: (275, 20, 20, 128)\n"
     ]
    }
   ],
   "source": [
    "print('Total Activation maps:',len(Activation_maps))\n",
    "print('Activation shape:',Activation_maps.shape)"
   ]
  },
  {
   "cell_type": "code",
   "execution_count": 51,
   "metadata": {},
   "outputs": [],
   "source": [
    "def cam_plot(datasetSize = X_test,dataset_2 = X_test_raw, plotting = True):\n",
    "    \n",
    "    num_images = 10\n",
    "\n",
    "    random_test_image_ind = np.random.randint(datasetSize.shape[0], size=num_images)\n",
    "\n",
    "    if plotting:\n",
    "        plt.figure(figsize=(20, 6))\n",
    "\n",
    "    for i,image_index in enumerate(random_test_image_ind):\n",
    "\n",
    "        Activation_map_for_one_img = Activation_maps[image_index, :, :, :]\n",
    "\n",
    "        pred_id = np.argmax(Predict_prob[image_index])\n",
    "\n",
    "        predicted_class_weights = classifier_weights[:,pred_id]\n",
    "\n",
    "        cam = np.zeros(dtype = np.float32, shape = Activation_map_for_one_img.shape[0:2])\n",
    "\n",
    "        for j, w in enumerate(predicted_class_weights):\n",
    "\n",
    "            cam += np.dot(w, Activation_map_for_one_img[:, :, j])\n",
    "\n",
    "        cam/=np.max(cam)\n",
    "\n",
    "        cam = cv2.resize(cam, (dataset_2[image_index].shape[1], dataset_2[image_index].shape[0]))\n",
    "\n",
    "        heatmap = cv2.applyColorMap(np.uint8(255*cam), cv2.COLORMAP_JET)\n",
    "\n",
    "        heatmap = np.maximum(heatmap,0)\n",
    "        heatmap[np.where(cam<0.15)]=0\n",
    "\n",
    "        superimposed_img = heatmap*0.4 + (dataset_2[image_index])\n",
    "\n",
    "        if plotting:\n",
    "            \n",
    "            ax = plt.subplot(2, num_images/2, i+1)\n",
    "            plt.imshow(np.uint8(superimposed_img))\n",
    "            ax.get_xaxis().set_visible(False)\n",
    "            ax.get_yaxis().set_visible(False)\n",
    "            \n",
    "        fn = 'image_'+str(image_index)+'.jpg'\n",
    "        cv2.imwrite(fn, (superimposed_img))\n",
    "        "
   ]
  },
  {
   "cell_type": "code",
   "execution_count": 52,
   "metadata": {},
   "outputs": [],
   "source": [
    "#cam_plot(dataset_2=X_test_raw)"
   ]
  },
  {
   "cell_type": "code",
   "execution_count": 53,
   "metadata": {
    "scrolled": false
   },
   "outputs": [
    {
     "name": "stdout",
     "output_type": "stream",
     "text": [
      "--- 177.4478783607483 seconds ---\n"
     ]
    }
   ],
   "source": [
    "start_time = time.time()\n",
    "for i in range(50):\n",
    "    cam_plot(dataset_2=X_test_raw,plotting=False)\n",
    "print(\"--- %s seconds ---\" % (time.time() - start_time))"
   ]
  },
  {
   "cell_type": "code",
   "execution_count": null,
   "metadata": {},
   "outputs": [],
   "source": []
  }
 ],
 "metadata": {
  "kernelspec": {
   "display_name": "TF-GPU",
   "language": "python",
   "name": "tf_gpu"
  },
  "language_info": {
   "codemirror_mode": {
    "name": "ipython",
    "version": 3
   },
   "file_extension": ".py",
   "mimetype": "text/x-python",
   "name": "python",
   "nbconvert_exporter": "python",
   "pygments_lexer": "ipython3",
   "version": "3.6.9"
  }
 },
 "nbformat": 4,
 "nbformat_minor": 2
}
