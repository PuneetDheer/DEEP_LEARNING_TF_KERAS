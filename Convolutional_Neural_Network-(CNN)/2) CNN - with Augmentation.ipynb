{
 "cells": [
  {
   "cell_type": "code",
   "execution_count": 1,
   "metadata": {},
   "outputs": [],
   "source": [
    "import numpy as np\n",
    "import matplotlib.pyplot as plt\n",
    "import pandas as pd\n",
    "import os, signal\n",
    "import cv2\n",
    "import seaborn as sns\n",
    "import pickle\n",
    "\n",
    "from tensorflow.keras.preprocessing.image import ImageDataGenerator\n",
    "from tensorflow.keras.utils import to_categorical, plot_model\n",
    "from tensorflow.keras.models import Sequential\n",
    "from tensorflow.keras.layers import Conv2D,MaxPooling2D,Dropout,Activation\n",
    "from tensorflow.keras.layers import Dense,Flatten,BatchNormalization\n",
    "from tensorflow.keras.optimizers import RMSprop\n",
    "from IPython.display import clear_output\n",
    "\n",
    "from sklearn.utils import shuffle\n",
    "from sklearn.model_selection import train_test_split\n",
    "from sklearn.metrics import classification_report\n",
    "from sklearn.metrics import confusion_matrix\n",
    "\n",
    "%matplotlib inline"
   ]
  },
  {
   "cell_type": "code",
   "execution_count": 2,
   "metadata": {},
   "outputs": [],
   "source": [
    "DATA_DIR='C:\\g_images\\downloads\\originals'\n",
    "CLASSES = ['cats','dogs','panda','bikes','horse']"
   ]
  },
  {
   "cell_type": "code",
   "execution_count": null,
   "metadata": {},
   "outputs": [],
   "source": [
    "training_data=[] #list\n",
    "training_label=[]\n",
    "\n",
    "img_resize = 100\n",
    "\n",
    "def self_generated_train_data():\n",
    "    for c in CLASSES:\n",
    "        path = os.path.join(DATA_DIR,c)\n",
    "        class_no = CLASSES.index(c)\n",
    "        for img in os.listdir(path):\n",
    "            #try:\n",
    "            #print(os.path.join(path,img))\n",
    "            img_array_bgr = cv2.imread(os.path.join(path,img))\n",
    "            rgb_img = cv2.cvtColor(img_array_bgr, cv2.COLOR_BGR2RGB)\n",
    "            rgb_image_resized = cv2.resize(rgb_img,(img_resize,img_resize))\n",
    "            training_data.append(rgb_image_resized) #append array to a list\n",
    "            training_label.append(class_no)\n",
    "            #except:\n",
    "            #    print(os.path.join(path,img)) # this will show the name of file if any error while loading any image\n",
    "            break    \n",
    "        print(\"Class %d loaded: %s \"%(class_no,c))"
   ]
  },
  {
   "cell_type": "code",
   "execution_count": null,
   "metadata": {},
   "outputs": [],
   "source": [
    "self_generated_train_data()"
   ]
  },
  {
   "cell_type": "code",
   "execution_count": null,
   "metadata": {},
   "outputs": [],
   "source": [
    "# Convert into an array for model input\n",
    "training_data = np.array(training_data)\n",
    "training_label = np.array(training_label)"
   ]
  },
  {
   "cell_type": "code",
   "execution_count": null,
   "metadata": {},
   "outputs": [],
   "source": [
    "print(\"Training data shape:\",training_data.shape)\n",
    "print(\"Training label shape:\",training_label.shape)"
   ]
  },
  {
   "cell_type": "code",
   "execution_count": null,
   "metadata": {},
   "outputs": [],
   "source": [
    "# save the resized data to prevent from re-loading from scratch \n",
    "\n",
    "pickle_out=open(\"training_data_100px.pickle\",'wb')\n",
    "pickle.dump(training_data,pickle_out)\n",
    "pickle_out.close()\n",
    "\n",
    "pickle_out=open(\"training_data_100px.pickle\",'wb')\n",
    "pickle.dump(training_label,pickle_out)\n",
    "pickle_out.close()"
   ]
  },
  {
   "cell_type": "code",
   "execution_count": 3,
   "metadata": {},
   "outputs": [],
   "source": [
    "# to load the resized data\n",
    "pickle_in = open(\"training_data_100px.pickle\",'rb')\n",
    "training_data = pickle.load(pickle_in)\n",
    "\n",
    "pickle_in = open(\"training_label_100px.pickle\",'rb')\n",
    "training_label = pickle.load(pickle_in)"
   ]
  },
  {
   "cell_type": "code",
   "execution_count": 4,
   "metadata": {},
   "outputs": [
    {
     "data": {
      "text/plain": [
       "<matplotlib.axes._subplots.AxesSubplot at 0x2caea6b5f98>"
      ]
     },
     "execution_count": 4,
     "metadata": {},
     "output_type": "execute_result"
    },
    {
     "data": {
      "image/png": "[encoded data removed]",
      "text/plain": [
       "<Figure size 432x288 with 1 Axes>"
      ]
     },
     "metadata": {
      "needs_background": "light"
     },
     "output_type": "display_data"
    }
   ],
   "source": [
    "sns.countplot(training_label)"
   ]
  },
  {
   "cell_type": "code",
   "execution_count": 5,
   "metadata": {},
   "outputs": [
    {
     "name": "stdout",
     "output_type": "stream",
     "text": [
      "Class counts: {0: 550, 1: 550, 2: 550, 3: 550, 4: 550}\n"
     ]
    }
   ],
   "source": [
    "Class_label_counters = {label:list(training_label).count(label) for label in list(training_label)}\n",
    "print('Class counts:',Class_label_counters)"
   ]
  },
  {
   "cell_type": "code",
   "execution_count": 6,
   "metadata": {},
   "outputs": [
    {
     "name": "stdout",
     "output_type": "stream",
     "text": [
      "Total Number of classes: 5\n"
     ]
    }
   ],
   "source": [
    "total_classes = len(np.unique(training_label))\n",
    "print('Total Number of classes:',total_classes)"
   ]
  },
  {
   "cell_type": "code",
   "execution_count": 7,
   "metadata": {},
   "outputs": [],
   "source": [
    "y_categorical = to_categorical(training_label,total_classes)"
   ]
  },
  {
   "cell_type": "code",
   "execution_count": 8,
   "metadata": {},
   "outputs": [],
   "source": [
    "# Normalize the data \n",
    "training_data = training_data.astype('float32') / 255."
   ]
  },
  {
   "cell_type": "code",
   "execution_count": 9,
   "metadata": {},
   "outputs": [],
   "source": [
    "#shuffle the dataset\n",
    "x_shuffle,y_shuffle = shuffle(training_data,y_categorical)"
   ]
  },
  {
   "cell_type": "code",
   "execution_count": 10,
   "metadata": {},
   "outputs": [],
   "source": [
    "X, X_test, Y, Y_test = train_test_split(x_shuffle,y_shuffle,test_size = 0.10)"
   ]
  },
  {
   "cell_type": "code",
   "execution_count": 11,
   "metadata": {},
   "outputs": [],
   "source": [
    "X_train,X_valid,Y_train,Y_valid = train_test_split(X,Y,test_size = 0.20)"
   ]
  },
  {
   "cell_type": "code",
   "execution_count": 12,
   "metadata": {},
   "outputs": [
    {
     "name": "stdout",
     "output_type": "stream",
     "text": [
      "Test data shape after split: (275, 100, 100, 3)\n"
     ]
    }
   ],
   "source": [
    "print(\"Test data shape after split:\",X_test.shape)"
   ]
  },
  {
   "cell_type": "code",
   "execution_count": 13,
   "metadata": {},
   "outputs": [
    {
     "name": "stdout",
     "output_type": "stream",
     "text": [
      "Training data shape after split: (1980, 100, 100, 3)\n",
      "Validation data shape after split: (495, 100, 100, 3)\n"
     ]
    }
   ],
   "source": [
    "print(\"Training data shape after split:\",X_train.shape)\n",
    "print(\"Validation data shape after split:\",X_valid.shape)"
   ]
  },
  {
   "cell_type": "code",
   "execution_count": 14,
   "metadata": {},
   "outputs": [
    {
     "name": "stdout",
     "output_type": "stream",
     "text": [
      "Training label shape after split: (1980, 5)\n",
      "Validation label shape after split: (495, 5)\n"
     ]
    }
   ],
   "source": [
    "print(\"Training label shape after split:\",Y_train.shape)\n",
    "print(\"Validation label shape after split:\",Y_valid.shape)"
   ]
  },
  {
   "cell_type": "code",
   "execution_count": 15,
   "metadata": {},
   "outputs": [],
   "source": [
    "# Hyper-parameters settings\n",
    "image_size = X_train.shape[1]\n",
    "input_shape = (image_size, image_size, 3)\n",
    "kernel_size = 3\n",
    "pool_size = 2\n",
    "filters = 64\n",
    "dropout = 0.4"
   ]
  },
  {
   "cell_type": "code",
   "execution_count": 16,
   "metadata": {},
   "outputs": [
    {
     "name": "stderr",
     "output_type": "stream",
     "text": [
      "WARNING: Logging before flag parsing goes to stderr.\n",
      "W0907 23:48:20.259948 15720 deprecation.py:506] From C:\\ProgramData\\Anaconda3\\envs\\tf_gpu\\lib\\site-packages\\tensorflow\\python\\ops\\init_ops.py:1251: calling VarianceScaling.__init__ (from tensorflow.python.ops.init_ops) with dtype is deprecated and will be removed in a future version.\n",
      "Instructions for updating:\n",
      "Call initializer instance with the dtype argument instead of passing it to the constructor\n"
     ]
    }
   ],
   "source": [
    "# model is a stack of CNN-ReLU-MaxPooling\n",
    "model = Sequential()\n",
    "\n",
    "model.add(Conv2D(filters=16,kernel_size=kernel_size,activation='relu',input_shape=input_shape))\n",
    "model.add(Conv2D(filters=16,kernel_size=kernel_size,activation='relu'))\n",
    "model.add(Conv2D(filters=16,kernel_size=kernel_size,activation='relu'))\n",
    "model.add(MaxPooling2D(pool_size))\n",
    "\n",
    "\n",
    "model.add(Conv2D(filters=32,kernel_size=kernel_size,activation='relu'))\n",
    "model.add(Conv2D(filters=32,kernel_size=kernel_size,activation='relu'))\n",
    "model.add(Conv2D(filters=32,kernel_size=kernel_size,activation='relu'))\n",
    "model.add(MaxPooling2D(pool_size))\n",
    "#model.add(Dropout(dropout))\n",
    "\n",
    "model.add(Conv2D(filters=64,kernel_size=kernel_size,activation='relu'))\n",
    "model.add(Conv2D(filters=64,kernel_size=kernel_size,activation='relu'))\n",
    "model.add(Conv2D(filters=64,kernel_size=kernel_size,activation='relu'))\n",
    "model.add(MaxPooling2D(pool_size))\n",
    "#model.add(Dropout(dropout))\n",
    "\n",
    "\n",
    "model.add(Conv2D(filters=128,kernel_size=kernel_size,activation='relu'))\n",
    "model.add(Conv2D(filters=128,kernel_size=kernel_size,activation='relu'))\n",
    "model.add(Conv2D(filters=128,kernel_size=kernel_size,activation='relu'))\n",
    "model.add(Flatten())\n",
    "#model.add(Dropout(dropout))\n",
    "\n",
    "model.add(Dense(100))\n",
    "model.add(Activation('relu'))\n",
    "model.add(Dropout(0.5))\n",
    "\n",
    "model.add(Dense(100))\n",
    "model.add(Activation('relu'))\n",
    "model.add(Dropout(0.5))\n",
    "\n",
    "model.add(Dense(total_classes)) # output layer is 5-dim one-hot vector\n",
    "model.add(Activation('softmax'))"
   ]
  },
  {
   "cell_type": "code",
   "execution_count": 17,
   "metadata": {
    "scrolled": false
   },
   "outputs": [],
   "source": [
    "#plot_model(model, to_file='cnn-wAG.png', show_shapes=True)"
   ]
  },
  {
   "cell_type": "code",
   "execution_count": 18,
   "metadata": {},
   "outputs": [
    {
     "name": "stdout",
     "output_type": "stream",
     "text": [
      "Model: \"sequential\"\n",
      "_________________________________________________________________\n",
      "Layer (type)                 Output Shape              Param #   \n",
      "=================================================================\n",
      "conv2d (Conv2D)              (None, 98, 98, 16)        448       \n",
      "_________________________________________________________________\n",
      "conv2d_1 (Conv2D)            (None, 96, 96, 16)        2320      \n",
      "_________________________________________________________________\n",
      "conv2d_2 (Conv2D)            (None, 94, 94, 16)        2320      \n",
      "_________________________________________________________________\n",
      "max_pooling2d (MaxPooling2D) (None, 47, 47, 16)        0         \n",
      "_________________________________________________________________\n",
      "conv2d_3 (Conv2D)            (None, 45, 45, 32)        4640      \n",
      "_________________________________________________________________\n",
      "conv2d_4 (Conv2D)            (None, 43, 43, 32)        9248      \n",
      "_________________________________________________________________\n",
      "conv2d_5 (Conv2D)            (None, 41, 41, 32)        9248      \n",
      "_________________________________________________________________\n",
      "max_pooling2d_1 (MaxPooling2 (None, 20, 20, 32)        0         \n",
      "_________________________________________________________________\n",
      "conv2d_6 (Conv2D)            (None, 18, 18, 64)        18496     \n",
      "_________________________________________________________________\n",
      "conv2d_7 (Conv2D)            (None, 16, 16, 64)        36928     \n",
      "_________________________________________________________________\n",
      "conv2d_8 (Conv2D)            (None, 14, 14, 64)        36928     \n",
      "_________________________________________________________________\n",
      "max_pooling2d_2 (MaxPooling2 (None, 7, 7, 64)          0         \n",
      "_________________________________________________________________\n",
      "conv2d_9 (Conv2D)            (None, 5, 5, 128)         73856     \n",
      "_________________________________________________________________\n",
      "conv2d_10 (Conv2D)           (None, 3, 3, 128)         147584    \n",
      "_________________________________________________________________\n",
      "conv2d_11 (Conv2D)           (None, 1, 1, 128)         147584    \n",
      "_________________________________________________________________\n",
      "flatten (Flatten)            (None, 128)               0         \n",
      "_________________________________________________________________\n",
      "dense (Dense)                (None, 100)               12900     \n",
      "_________________________________________________________________\n",
      "activation (Activation)      (None, 100)               0         \n",
      "_________________________________________________________________\n",
      "dropout (Dropout)            (None, 100)               0         \n",
      "_________________________________________________________________\n",
      "dense_1 (Dense)              (None, 100)               10100     \n",
      "_________________________________________________________________\n",
      "activation_1 (Activation)    (None, 100)               0         \n",
      "_________________________________________________________________\n",
      "dropout_1 (Dropout)          (None, 100)               0         \n",
      "_________________________________________________________________\n",
      "dense_2 (Dense)              (None, 5)                 505       \n",
      "_________________________________________________________________\n",
      "activation_2 (Activation)    (None, 5)                 0         \n",
      "=================================================================\n",
      "Total params: 513,105\n",
      "Trainable params: 513,105\n",
      "Non-trainable params: 0\n",
      "_________________________________________________________________\n"
     ]
    }
   ],
   "source": [
    "model.summary()"
   ]
  },
  {
   "cell_type": "code",
   "execution_count": 19,
   "metadata": {},
   "outputs": [],
   "source": [
    "# loss function for one-hot vector encoding\n",
    "model.compile(loss='categorical_crossentropy',optimizer='adam',metrics=['accuracy'])\n",
    "#model.compile(loss='categorical_crossentropy', optimizer='rmsprop', metrics=['accuracy'])"
   ]
  },
  {
   "cell_type": "code",
   "execution_count": 20,
   "metadata": {},
   "outputs": [],
   "source": [
    "# Training the convnet using data-augmentation generators\n",
    "train_datagen = ImageDataGenerator(\n",
    "    rotation_range=20,\n",
    "    width_shift_range=0.2,\n",
    "    height_shift_range=0.2,\n",
    "    shear_range=0.2,\n",
    "    zoom_range=0.2,\n",
    "    horizontal_flip=True,\n",
    "    fill_mode=\"nearest\")"
   ]
  },
  {
   "cell_type": "code",
   "execution_count": 21,
   "metadata": {},
   "outputs": [
    {
     "name": "stdout",
     "output_type": "stream",
     "text": [
      "Number of Batches 31\n"
     ]
    }
   ],
   "source": [
    "training_batch_size = 64\n",
    "train_generator = train_datagen.flow(X_train, y = Y_train,batch_size = training_batch_size)\n",
    "print(\"Number of Batches\",len(train_generator))"
   ]
  },
  {
   "cell_type": "code",
   "execution_count": 22,
   "metadata": {},
   "outputs": [],
   "source": [
    "#validation_datagen = ImageDataGenerator()"
   ]
  },
  {
   "cell_type": "code",
   "execution_count": 23,
   "metadata": {},
   "outputs": [],
   "source": [
    "# OR validation dataset can also be augmented only if validation consists of normal data that doesn't matches with training data\n",
    "validation_datagen = ImageDataGenerator(\n",
    "    rotation_range=20,\n",
    "    width_shift_range=0.2,\n",
    "    height_shift_range=0.2,\n",
    "    shear_range=0.2,\n",
    "    zoom_range=0.2,\n",
    "    horizontal_flip=True,\n",
    "    fill_mode=\"nearest\")"
   ]
  },
  {
   "cell_type": "code",
   "execution_count": 24,
   "metadata": {},
   "outputs": [
    {
     "name": "stdout",
     "output_type": "stream",
     "text": [
      "Number of Batches 16\n"
     ]
    }
   ],
   "source": [
    "validation_batch_size = 32\n",
    "validation_generator = validation_datagen.flow(X_valid,y= Y_valid,batch_size=validation_batch_size)\n",
    "print(\"Number of Batches\",len(validation_generator))"
   ]
  },
  {
   "cell_type": "code",
   "execution_count": 25,
   "metadata": {
    "scrolled": false
   },
   "outputs": [
    {
     "name": "stdout",
     "output_type": "stream",
     "text": [
      "Epoch 1/200\n",
      "30/30 [==============================] - 17s 555ms/step - loss: 1.5793 - acc: 0.2307 - val_loss: 1.5069 - val_acc: 0.3042\n",
      "Epoch 2/200\n",
      "30/30 [==============================] - 9s 307ms/step - loss: 1.4206 - acc: 0.3340 - val_loss: 1.3636 - val_acc: 0.3271\n",
      "Epoch 3/200\n",
      "30/30 [==============================] - 9s 306ms/step - loss: 1.3484 - acc: 0.3591 - val_loss: 1.3175 - val_acc: 0.3792\n",
      "Epoch 4/200\n",
      "30/30 [==============================] - 9s 306ms/step - loss: 1.3334 - acc: 0.3591 - val_loss: 1.3006 - val_acc: 0.3562\n",
      "Epoch 5/200\n",
      "30/30 [==============================] - 9s 307ms/step - loss: 1.3222 - acc: 0.3479 - val_loss: 1.2638 - val_acc: 0.3917\n",
      "Epoch 6/200\n",
      "30/30 [==============================] - 9s 307ms/step - loss: 1.3039 - acc: 0.3781 - val_loss: 1.3061 - val_acc: 0.3750\n",
      "Epoch 7/200\n",
      "30/30 [==============================] - 9s 307ms/step - loss: 1.3216 - acc: 0.3651 - val_loss: 1.3134 - val_acc: 0.3979\n",
      "Epoch 8/200\n",
      "30/30 [==============================] - 9s 307ms/step - loss: 1.3259 - acc: 0.3617 - val_loss: 1.2833 - val_acc: 0.3896\n",
      "Epoch 9/200\n",
      "30/30 [==============================] - 9s 306ms/step - loss: 1.2799 - acc: 0.3768 - val_loss: 1.2275 - val_acc: 0.4167\n",
      "Epoch 10/200\n",
      "30/30 [==============================] - 9s 306ms/step - loss: 1.2480 - acc: 0.3902 - val_loss: 1.2287 - val_acc: 0.4250\n",
      "Epoch 11/200\n",
      "30/30 [==============================] - 9s 300ms/step - loss: 1.2333 - acc: 0.3875 - val_loss: 1.2113 - val_acc: 0.3958\n",
      "Epoch 12/200\n",
      "30/30 [==============================] - 9s 304ms/step - loss: 1.2518 - acc: 0.3920 - val_loss: 1.1748 - val_acc: 0.4208\n",
      "Epoch 13/200\n",
      "30/30 [==============================] - 9s 306ms/step - loss: 1.2292 - acc: 0.4200 - val_loss: 1.2822 - val_acc: 0.3979\n",
      "Epoch 14/200\n",
      "30/30 [==============================] - 9s 303ms/step - loss: 1.2039 - acc: 0.4374 - val_loss: 1.1350 - val_acc: 0.4500\n",
      "Epoch 15/200\n",
      "30/30 [==============================] - 9s 305ms/step - loss: 1.1642 - acc: 0.4593 - val_loss: 1.1196 - val_acc: 0.4708\n",
      "Epoch 16/200\n",
      "30/30 [==============================] - 9s 302ms/step - loss: 1.1632 - acc: 0.4817 - val_loss: 1.0969 - val_acc: 0.5125\n",
      "Epoch 17/200\n",
      "30/30 [==============================] - 9s 305ms/step - loss: 1.1359 - acc: 0.4948 - val_loss: 1.0243 - val_acc: 0.5250\n",
      "Epoch 18/200\n",
      "30/30 [==============================] - 9s 303ms/step - loss: 1.1055 - acc: 0.5047 - val_loss: 1.0333 - val_acc: 0.5229\n",
      "Epoch 19/200\n",
      "30/30 [==============================] - 9s 307ms/step - loss: 1.0994 - acc: 0.5161 - val_loss: 1.0114 - val_acc: 0.5229\n",
      "Epoch 20/200\n",
      "30/30 [==============================] - 9s 305ms/step - loss: 1.0051 - acc: 0.5433 - val_loss: 0.9516 - val_acc: 0.5562\n",
      "Epoch 21/200\n",
      "30/30 [==============================] - 9s 310ms/step - loss: 1.0083 - acc: 0.5318 - val_loss: 0.9178 - val_acc: 0.5542\n",
      "Epoch 22/200\n",
      "30/30 [==============================] - 9s 303ms/step - loss: 1.0101 - acc: 0.5387 - val_loss: 0.9679 - val_acc: 0.5542\n",
      "Epoch 23/200\n",
      "30/30 [==============================] - 9s 308ms/step - loss: 0.9703 - acc: 0.5510 - val_loss: 0.9225 - val_acc: 0.5437\n",
      "Epoch 24/200\n",
      "30/30 [==============================] - 9s 308ms/step - loss: 0.9840 - acc: 0.5475 - val_loss: 0.9542 - val_acc: 0.5604\n",
      "Epoch 25/200\n",
      "30/30 [==============================] - 9s 309ms/step - loss: 0.9903 - acc: 0.5475 - val_loss: 0.9323 - val_acc: 0.5771\n",
      "Epoch 26/200\n",
      "30/30 [==============================] - 9s 309ms/step - loss: 0.9484 - acc: 0.5652 - val_loss: 0.9980 - val_acc: 0.5292\n",
      "Epoch 27/200\n",
      "30/30 [==============================] - 9s 307ms/step - loss: 0.9454 - acc: 0.5600 - val_loss: 0.8690 - val_acc: 0.5958\n",
      "Epoch 28/200\n",
      "30/30 [==============================] - 9s 309ms/step - loss: 0.9050 - acc: 0.5830 - val_loss: 0.9728 - val_acc: 0.5792\n",
      "Epoch 29/200\n",
      "30/30 [==============================] - 9s 308ms/step - loss: 0.9565 - acc: 0.5600 - val_loss: 0.8151 - val_acc: 0.5958\n",
      "Epoch 30/200\n",
      "30/30 [==============================] - 9s 308ms/step - loss: 0.8988 - acc: 0.5804 - val_loss: 0.8350 - val_acc: 0.6021\n",
      "Epoch 31/200\n",
      "30/30 [==============================] - 9s 309ms/step - loss: 0.9056 - acc: 0.5819 - val_loss: 0.8151 - val_acc: 0.6167\n",
      "Epoch 32/200\n",
      "30/30 [==============================] - 9s 312ms/step - loss: 0.8974 - acc: 0.5814 - val_loss: 0.7978 - val_acc: 0.6146\n",
      "Epoch 33/200\n",
      "30/30 [==============================] - 9s 303ms/step - loss: 0.8551 - acc: 0.5788 - val_loss: 0.9262 - val_acc: 0.5792\n",
      "Epoch 34/200\n",
      "30/30 [==============================] - 9s 305ms/step - loss: 0.8526 - acc: 0.5981 - val_loss: 0.9508 - val_acc: 0.5542\n",
      "Epoch 35/200\n",
      "30/30 [==============================] - 9s 302ms/step - loss: 0.9387 - acc: 0.5699 - val_loss: 0.8753 - val_acc: 0.6167\n",
      "Epoch 36/200\n",
      "30/30 [==============================] - 9s 305ms/step - loss: 0.8986 - acc: 0.5877 - val_loss: 0.7993 - val_acc: 0.6562\n",
      "Epoch 37/200\n",
      "30/30 [==============================] - 9s 307ms/step - loss: 0.8630 - acc: 0.6169 - val_loss: 0.8695 - val_acc: 0.6208\n",
      "Epoch 38/200\n",
      "30/30 [==============================] - 9s 306ms/step - loss: 0.8316 - acc: 0.5939 - val_loss: 0.7890 - val_acc: 0.6417\n",
      "Epoch 39/200\n",
      "30/30 [==============================] - 9s 304ms/step - loss: 0.8340 - acc: 0.6177 - val_loss: 0.7955 - val_acc: 0.6229\n",
      "Epoch 40/200\n",
      "30/30 [==============================] - 9s 304ms/step - loss: 0.7787 - acc: 0.6232 - val_loss: 0.7992 - val_acc: 0.6583\n",
      "Epoch 41/200\n",
      "30/30 [==============================] - 9s 305ms/step - loss: 0.8052 - acc: 0.6388 - val_loss: 0.7330 - val_acc: 0.6708\n",
      "Epoch 42/200\n",
      "30/30 [==============================] - 9s 305ms/step - loss: 0.7825 - acc: 0.6412 - val_loss: 0.7211 - val_acc: 0.6458\n",
      "Epoch 43/200\n",
      "30/30 [==============================] - 9s 302ms/step - loss: 0.8150 - acc: 0.6065 - val_loss: 0.8514 - val_acc: 0.6333\n",
      "Epoch 44/200\n",
      "30/30 [==============================] - 9s 306ms/step - loss: 0.8223 - acc: 0.6399 - val_loss: 0.8117 - val_acc: 0.6458\n",
      "Epoch 45/200\n",
      "30/30 [==============================] - 9s 303ms/step - loss: 0.7824 - acc: 0.6310 - val_loss: 0.6997 - val_acc: 0.6792\n",
      "Epoch 46/200\n",
      "30/30 [==============================] - 9s 304ms/step - loss: 0.8125 - acc: 0.6367 - val_loss: 0.8091 - val_acc: 0.6375\n",
      "Epoch 47/200\n",
      "30/30 [==============================] - 9s 302ms/step - loss: 0.7656 - acc: 0.6458 - val_loss: 0.7391 - val_acc: 0.6792\n",
      "Epoch 48/200\n",
      "30/30 [==============================] - 9s 306ms/step - loss: 0.7122 - acc: 0.6707 - val_loss: 0.8360 - val_acc: 0.6854\n",
      "Epoch 49/200\n",
      "30/30 [==============================] - 9s 306ms/step - loss: 0.7668 - acc: 0.6559 - val_loss: 0.6944 - val_acc: 0.6979\n",
      "Epoch 50/200\n",
      "30/30 [==============================] - 9s 306ms/step - loss: 0.7284 - acc: 0.6630 - val_loss: 0.7347 - val_acc: 0.6646\n",
      "Epoch 51/200\n",
      "30/30 [==============================] - 9s 306ms/step - loss: 0.8176 - acc: 0.6347 - val_loss: 0.7738 - val_acc: 0.6521\n",
      "Epoch 52/200\n",
      "30/30 [==============================] - 9s 306ms/step - loss: 0.6972 - acc: 0.6759 - val_loss: 0.7629 - val_acc: 0.6646\n",
      "Epoch 53/200\n",
      "30/30 [==============================] - 9s 306ms/step - loss: 0.7794 - acc: 0.6394 - val_loss: 0.7294 - val_acc: 0.6854\n",
      "Epoch 54/200\n",
      "30/30 [==============================] - 9s 306ms/step - loss: 0.7900 - acc: 0.6461 - val_loss: 0.8974 - val_acc: 0.6000\n",
      "Epoch 55/200\n",
      "30/30 [==============================] - 9s 305ms/step - loss: 0.7664 - acc: 0.6435 - val_loss: 0.6808 - val_acc: 0.6854\n",
      "Epoch 56/200\n",
      "30/30 [==============================] - 9s 306ms/step - loss: 0.7445 - acc: 0.6540 - val_loss: 0.6886 - val_acc: 0.6667\n",
      "Epoch 57/200\n",
      "30/30 [==============================] - 9s 307ms/step - loss: 0.7298 - acc: 0.6608 - val_loss: 0.6958 - val_acc: 0.6792\n",
      "Epoch 58/200\n",
      "30/30 [==============================] - 9s 305ms/step - loss: 0.7111 - acc: 0.6665 - val_loss: 0.6323 - val_acc: 0.7208\n",
      "Epoch 59/200\n",
      "30/30 [==============================] - 9s 308ms/step - loss: 0.6950 - acc: 0.6733 - val_loss: 0.6960 - val_acc: 0.6917\n",
      "Epoch 60/200\n",
      "30/30 [==============================] - 9s 308ms/step - loss: 0.7273 - acc: 0.6691 - val_loss: 0.6817 - val_acc: 0.6833\n",
      "Epoch 61/200\n",
      "30/30 [==============================] - 9s 308ms/step - loss: 0.7639 - acc: 0.6571 - val_loss: 0.7145 - val_acc: 0.6938\n",
      "Epoch 62/200\n",
      "30/30 [==============================] - 9s 306ms/step - loss: 0.6987 - acc: 0.6832 - val_loss: 0.6895 - val_acc: 0.7021\n",
      "Epoch 63/200\n",
      "30/30 [==============================] - 9s 306ms/step - loss: 0.7115 - acc: 0.6926 - val_loss: 0.6279 - val_acc: 0.7083\n",
      "Epoch 64/200\n",
      "30/30 [==============================] - 9s 301ms/step - loss: 0.6824 - acc: 0.6978 - val_loss: 0.6702 - val_acc: 0.7042\n",
      "Epoch 65/200\n",
      "30/30 [==============================] - 9s 305ms/step - loss: 0.6881 - acc: 0.6952 - val_loss: 0.7784 - val_acc: 0.6438\n",
      "Epoch 66/200\n",
      "30/30 [==============================] - 9s 303ms/step - loss: 0.6945 - acc: 0.6764 - val_loss: 0.6561 - val_acc: 0.7042\n",
      "Epoch 67/200\n",
      "30/30 [==============================] - 9s 307ms/step - loss: 0.6725 - acc: 0.6879 - val_loss: 0.6742 - val_acc: 0.7021\n",
      "Epoch 68/200\n",
      "30/30 [==============================] - 9s 305ms/step - loss: 0.7035 - acc: 0.6926 - val_loss: 0.6941 - val_acc: 0.6646\n",
      "Epoch 69/200\n",
      "30/30 [==============================] - 9s 304ms/step - loss: 0.7304 - acc: 0.6719 - val_loss: 0.6518 - val_acc: 0.6979\n",
      "Epoch 70/200\n",
      "30/30 [==============================] - 9s 300ms/step - loss: 0.6854 - acc: 0.7118 - val_loss: 0.6387 - val_acc: 0.7000\n",
      "Epoch 71/200\n",
      "30/30 [==============================] - 9s 306ms/step - loss: 0.6596 - acc: 0.7015 - val_loss: 0.6234 - val_acc: 0.7208\n",
      "Epoch 72/200\n",
      "30/30 [==============================] - 9s 304ms/step - loss: 0.6286 - acc: 0.7156 - val_loss: 0.6893 - val_acc: 0.6979\n",
      "Epoch 73/200\n",
      "30/30 [==============================] - 9s 305ms/step - loss: 0.6847 - acc: 0.6832 - val_loss: 0.6341 - val_acc: 0.7229\n",
      "Epoch 74/200\n",
      "30/30 [==============================] - 9s 306ms/step - loss: 0.6565 - acc: 0.6990 - val_loss: 0.6234 - val_acc: 0.7250\n",
      "Epoch 75/200\n",
      "30/30 [==============================] - 9s 304ms/step - loss: 0.6520 - acc: 0.6993 - val_loss: 0.6430 - val_acc: 0.7125\n",
      "Epoch 76/200\n",
      "30/30 [==============================] - 9s 307ms/step - loss: 0.6551 - acc: 0.6953 - val_loss: 0.6887 - val_acc: 0.6979\n",
      "Epoch 77/200\n",
      "30/30 [==============================] - 9s 305ms/step - loss: 0.6448 - acc: 0.7056 - val_loss: 0.6396 - val_acc: 0.7125\n",
      "Epoch 78/200\n",
      "30/30 [==============================] - 9s 306ms/step - loss: 0.6603 - acc: 0.7009 - val_loss: 0.5871 - val_acc: 0.7083\n",
      "Epoch 79/200\n",
      "30/30 [==============================] - 9s 301ms/step - loss: 0.6268 - acc: 0.6952 - val_loss: 0.6361 - val_acc: 0.7125\n",
      "Epoch 80/200\n",
      "30/30 [==============================] - 9s 303ms/step - loss: 0.6164 - acc: 0.7135 - val_loss: 0.6262 - val_acc: 0.7458\n",
      "Epoch 81/200\n",
      "30/30 [==============================] - 9s 305ms/step - loss: 0.6346 - acc: 0.7124 - val_loss: 0.5888 - val_acc: 0.7354\n",
      "Epoch 82/200\n",
      "30/30 [==============================] - 9s 309ms/step - loss: 0.6077 - acc: 0.7140 - val_loss: 0.5957 - val_acc: 0.7125\n",
      "Epoch 83/200\n",
      "30/30 [==============================] - 9s 305ms/step - loss: 0.6012 - acc: 0.7223 - val_loss: 0.6461 - val_acc: 0.7271\n",
      "Epoch 84/200\n",
      "30/30 [==============================] - 9s 308ms/step - loss: 0.6258 - acc: 0.7135 - val_loss: 0.5985 - val_acc: 0.7125\n",
      "Epoch 85/200\n",
      "30/30 [==============================] - 9s 306ms/step - loss: 0.6010 - acc: 0.7422 - val_loss: 0.5986 - val_acc: 0.7500\n",
      "Epoch 86/200\n",
      "30/30 [==============================] - 9s 306ms/step - loss: 0.6372 - acc: 0.7203 - val_loss: 0.6178 - val_acc: 0.7271\n",
      "Epoch 87/200\n",
      "30/30 [==============================] - 9s 306ms/step - loss: 0.5776 - acc: 0.7427 - val_loss: 0.6879 - val_acc: 0.7167\n",
      "Epoch 88/200\n",
      "30/30 [==============================] - 9s 310ms/step - loss: 0.5921 - acc: 0.7416 - val_loss: 0.6050 - val_acc: 0.7250\n",
      "Epoch 89/200\n",
      "30/30 [==============================] - 9s 306ms/step - loss: 0.7193 - acc: 0.7035 - val_loss: 0.7006 - val_acc: 0.6833\n",
      "Epoch 90/200\n",
      "30/30 [==============================] - 9s 306ms/step - loss: 0.6452 - acc: 0.7171 - val_loss: 0.6364 - val_acc: 0.7292\n",
      "Epoch 91/200\n",
      "30/30 [==============================] - 9s 308ms/step - loss: 0.6181 - acc: 0.7380 - val_loss: 0.5586 - val_acc: 0.7417\n",
      "Epoch 92/200\n",
      "30/30 [==============================] - 9s 306ms/step - loss: 0.6248 - acc: 0.7312 - val_loss: 0.5613 - val_acc: 0.7646\n",
      "Epoch 93/200\n",
      "30/30 [==============================] - 9s 307ms/step - loss: 0.6333 - acc: 0.7072 - val_loss: 0.5766 - val_acc: 0.7333\n",
      "Epoch 94/200\n",
      "30/30 [==============================] - 9s 301ms/step - loss: 0.6102 - acc: 0.7406 - val_loss: 0.6200 - val_acc: 0.7417\n",
      "Epoch 95/200\n",
      "30/30 [==============================] - 9s 306ms/step - loss: 0.5988 - acc: 0.7380 - val_loss: 0.5201 - val_acc: 0.7563\n",
      "Epoch 96/200\n",
      "30/30 [==============================] - 9s 307ms/step - loss: 0.6052 - acc: 0.7328 - val_loss: 0.5812 - val_acc: 0.7646\n",
      "Epoch 97/200\n",
      "30/30 [==============================] - 9s 306ms/step - loss: 0.5795 - acc: 0.7526 - val_loss: 0.5775 - val_acc: 0.7333\n",
      "Epoch 98/200\n",
      "30/30 [==============================] - 9s 306ms/step - loss: 0.5928 - acc: 0.7432 - val_loss: 0.5457 - val_acc: 0.7437\n",
      "Epoch 99/200\n",
      "30/30 [==============================] - 9s 303ms/step - loss: 0.6568 - acc: 0.7255 - val_loss: 0.6239 - val_acc: 0.7312\n",
      "Epoch 100/200\n",
      "30/30 [==============================] - 9s 304ms/step - loss: 0.6053 - acc: 0.7516 - val_loss: 0.5896 - val_acc: 0.7292\n",
      "Epoch 101/200\n",
      "30/30 [==============================] - 9s 305ms/step - loss: 0.5521 - acc: 0.7458 - val_loss: 0.5256 - val_acc: 0.7729\n",
      "Epoch 102/200\n",
      "30/30 [==============================] - 9s 301ms/step - loss: 0.6027 - acc: 0.7437 - val_loss: 0.6086 - val_acc: 0.7583\n",
      "Epoch 103/200\n",
      "30/30 [==============================] - 9s 305ms/step - loss: 0.5931 - acc: 0.7354 - val_loss: 0.6059 - val_acc: 0.7437\n",
      "Epoch 104/200\n",
      "30/30 [==============================] - 9s 307ms/step - loss: 0.5800 - acc: 0.7516 - val_loss: 0.5572 - val_acc: 0.7708\n",
      "Epoch 105/200\n",
      "30/30 [==============================] - 9s 306ms/step - loss: 0.5527 - acc: 0.7636 - val_loss: 0.6537 - val_acc: 0.7208\n",
      "Epoch 106/200\n",
      "30/30 [==============================] - 9s 302ms/step - loss: 0.5810 - acc: 0.7536 - val_loss: 0.6423 - val_acc: 0.7292\n",
      "Epoch 107/200\n",
      "30/30 [==============================] - 9s 305ms/step - loss: 0.5494 - acc: 0.7599 - val_loss: 0.5390 - val_acc: 0.7646\n",
      "Epoch 108/200\n",
      "30/30 [==============================] - 9s 304ms/step - loss: 0.5362 - acc: 0.7620 - val_loss: 0.5350 - val_acc: 0.7604\n",
      "Epoch 109/200\n",
      "30/30 [==============================] - 9s 306ms/step - loss: 0.6080 - acc: 0.7479 - val_loss: 0.6507 - val_acc: 0.7563\n",
      "Epoch 110/200\n",
      "30/30 [==============================] - 9s 307ms/step - loss: 0.6038 - acc: 0.7370 - val_loss: 0.6093 - val_acc: 0.7375\n",
      "Epoch 111/200\n",
      "30/30 [==============================] - 9s 305ms/step - loss: 0.5419 - acc: 0.7677 - val_loss: 0.5548 - val_acc: 0.7729\n",
      "Epoch 112/200\n",
      "30/30 [==============================] - 9s 306ms/step - loss: 0.5828 - acc: 0.7631 - val_loss: 0.5867 - val_acc: 0.7458\n",
      "Epoch 113/200\n",
      "30/30 [==============================] - 9s 305ms/step - loss: 0.5490 - acc: 0.7708 - val_loss: 0.5607 - val_acc: 0.7604\n",
      "Epoch 114/200\n",
      "30/30 [==============================] - 9s 305ms/step - loss: 0.5444 - acc: 0.7641 - val_loss: 0.5646 - val_acc: 0.7625\n",
      "Epoch 115/200\n",
      "30/30 [==============================] - 9s 305ms/step - loss: 0.5345 - acc: 0.7583 - val_loss: 0.5923 - val_acc: 0.7500\n",
      "Epoch 116/200\n",
      "30/30 [==============================] - 9s 305ms/step - loss: 0.5419 - acc: 0.7630 - val_loss: 0.5482 - val_acc: 0.7479\n",
      "Epoch 117/200\n",
      "30/30 [==============================] - 9s 305ms/step - loss: 0.5261 - acc: 0.7724 - val_loss: 0.5620 - val_acc: 0.7604\n",
      "Epoch 118/200\n",
      "30/30 [==============================] - 9s 305ms/step - loss: 0.5605 - acc: 0.7599 - val_loss: 0.6000 - val_acc: 0.7646\n",
      "Epoch 119/200\n",
      "30/30 [==============================] - 9s 305ms/step - loss: 0.5438 - acc: 0.7745 - val_loss: 0.5843 - val_acc: 0.7479\n",
      "Epoch 120/200\n",
      "30/30 [==============================] - 9s 307ms/step - loss: 0.5202 - acc: 0.7844 - val_loss: 0.6024 - val_acc: 0.7229\n",
      "Epoch 121/200\n",
      "30/30 [==============================] - 9s 307ms/step - loss: 0.5457 - acc: 0.7662 - val_loss: 0.5211 - val_acc: 0.7583\n",
      "Epoch 122/200\n",
      "30/30 [==============================] - 9s 308ms/step - loss: 0.5373 - acc: 0.7719 - val_loss: 0.5101 - val_acc: 0.7854\n",
      "Epoch 123/200\n"
     ]
    },
    {
     "name": "stdout",
     "output_type": "stream",
     "text": [
      "30/30 [==============================] - 9s 306ms/step - loss: 0.5295 - acc: 0.7808 - val_loss: 0.4909 - val_acc: 0.7833\n",
      "Epoch 124/200\n",
      "30/30 [==============================] - 9s 307ms/step - loss: 0.5425 - acc: 0.7704 - val_loss: 0.5123 - val_acc: 0.7646\n",
      "Epoch 125/200\n",
      "30/30 [==============================] - 9s 302ms/step - loss: 0.5706 - acc: 0.7479 - val_loss: 0.5338 - val_acc: 0.7521\n",
      "Epoch 126/200\n",
      "30/30 [==============================] - 9s 310ms/step - loss: 0.5236 - acc: 0.7693 - val_loss: 0.5742 - val_acc: 0.7417\n",
      "Epoch 127/200\n",
      "30/30 [==============================] - 9s 305ms/step - loss: 0.5376 - acc: 0.7661 - val_loss: 0.5452 - val_acc: 0.7792\n",
      "Epoch 128/200\n",
      "30/30 [==============================] - 9s 305ms/step - loss: 0.6181 - acc: 0.7432 - val_loss: 0.5630 - val_acc: 0.7312\n",
      "Epoch 129/200\n",
      "30/30 [==============================] - 9s 302ms/step - loss: 0.5899 - acc: 0.7578 - val_loss: 0.5500 - val_acc: 0.7750\n",
      "Epoch 130/200\n",
      "30/30 [==============================] - 9s 303ms/step - loss: 0.5637 - acc: 0.7646 - val_loss: 0.5789 - val_acc: 0.7604\n",
      "Epoch 131/200\n",
      "30/30 [==============================] - 9s 306ms/step - loss: 0.5310 - acc: 0.7860 - val_loss: 0.5255 - val_acc: 0.7500\n",
      "Epoch 132/200\n",
      "30/30 [==============================] - 9s 304ms/step - loss: 0.5058 - acc: 0.7970 - val_loss: 0.5079 - val_acc: 0.7604\n",
      "Epoch 133/200\n",
      "30/30 [==============================] - 9s 307ms/step - loss: 0.5556 - acc: 0.7557 - val_loss: 0.5411 - val_acc: 0.7729\n",
      "Epoch 134/200\n",
      "30/30 [==============================] - 9s 312ms/step - loss: 0.5144 - acc: 0.7760 - val_loss: 0.5386 - val_acc: 0.7854\n",
      "Epoch 135/200\n",
      "30/30 [==============================] - 9s 301ms/step - loss: 0.5113 - acc: 0.7855 - val_loss: 0.5746 - val_acc: 0.7792\n",
      "Epoch 136/200\n",
      "30/30 [==============================] - 9s 304ms/step - loss: 0.5183 - acc: 0.7850 - val_loss: 0.5572 - val_acc: 0.7729\n",
      "Epoch 137/200\n",
      "30/30 [==============================] - 9s 305ms/step - loss: 0.5350 - acc: 0.7740 - val_loss: 0.5433 - val_acc: 0.7542\n",
      "Epoch 138/200\n",
      "30/30 [==============================] - 9s 303ms/step - loss: 0.5100 - acc: 0.7958 - val_loss: 0.7604 - val_acc: 0.7375\n",
      "Epoch 139/200\n",
      "30/30 [==============================] - 9s 307ms/step - loss: 0.4781 - acc: 0.7902 - val_loss: 0.4604 - val_acc: 0.7937\n",
      "Epoch 140/200\n",
      "30/30 [==============================] - 9s 306ms/step - loss: 0.4565 - acc: 0.8180 - val_loss: 0.6159 - val_acc: 0.7583\n",
      "Epoch 141/200\n",
      "30/30 [==============================] - 9s 305ms/step - loss: 0.4991 - acc: 0.7881 - val_loss: 0.5414 - val_acc: 0.7854\n",
      "Epoch 142/200\n",
      "30/30 [==============================] - 9s 301ms/step - loss: 0.5077 - acc: 0.7943 - val_loss: 0.5655 - val_acc: 0.7833\n",
      "Epoch 143/200\n",
      "30/30 [==============================] - 9s 300ms/step - loss: 0.4811 - acc: 0.7971 - val_loss: 0.5157 - val_acc: 0.7771\n",
      "Epoch 144/200\n",
      "30/30 [==============================] - 9s 304ms/step - loss: 0.5126 - acc: 0.7875 - val_loss: 0.4617 - val_acc: 0.7979\n",
      "Epoch 145/200\n",
      "30/30 [==============================] - 9s 306ms/step - loss: 0.4927 - acc: 0.7803 - val_loss: 0.4916 - val_acc: 0.7854\n",
      "Epoch 146/200\n",
      "30/30 [==============================] - 9s 307ms/step - loss: 0.4505 - acc: 0.8184 - val_loss: 0.6276 - val_acc: 0.7521\n",
      "Epoch 147/200\n",
      "30/30 [==============================] - 9s 306ms/step - loss: 0.5352 - acc: 0.7813 - val_loss: 0.5201 - val_acc: 0.7792\n",
      "Epoch 148/200\n",
      "30/30 [==============================] - 9s 306ms/step - loss: 0.4504 - acc: 0.8074 - val_loss: 0.4586 - val_acc: 0.8062\n",
      "Epoch 149/200\n",
      "30/30 [==============================] - 9s 305ms/step - loss: 0.4914 - acc: 0.7975 - val_loss: 0.5259 - val_acc: 0.7604\n",
      "Epoch 150/200\n",
      "30/30 [==============================] - 9s 306ms/step - loss: 0.4855 - acc: 0.7876 - val_loss: 0.5542 - val_acc: 0.7771\n",
      "Epoch 151/200\n",
      "30/30 [==============================] - 9s 304ms/step - loss: 0.5138 - acc: 0.7928 - val_loss: 0.5735 - val_acc: 0.7771\n",
      "Epoch 152/200\n",
      "30/30 [==============================] - 9s 306ms/step - loss: 0.4817 - acc: 0.8053 - val_loss: 0.4856 - val_acc: 0.7875\n",
      "Epoch 153/200\n",
      "30/30 [==============================] - 9s 306ms/step - loss: 0.4692 - acc: 0.8178 - val_loss: 0.4846 - val_acc: 0.8146\n",
      "Epoch 154/200\n",
      "30/30 [==============================] - 9s 305ms/step - loss: 0.4540 - acc: 0.8178 - val_loss: 0.5288 - val_acc: 0.7896\n",
      "Epoch 155/200\n",
      "30/30 [==============================] - 9s 305ms/step - loss: 0.4654 - acc: 0.8085 - val_loss: 0.4950 - val_acc: 0.7688\n",
      "Epoch 156/200\n",
      "30/30 [==============================] - 9s 305ms/step - loss: 0.5127 - acc: 0.7829 - val_loss: 0.5645 - val_acc: 0.7812\n",
      "Epoch 157/200\n",
      "30/30 [==============================] - 9s 310ms/step - loss: 0.4568 - acc: 0.8048 - val_loss: 0.5202 - val_acc: 0.8083\n",
      "Epoch 158/200\n",
      "30/30 [==============================] - 9s 306ms/step - loss: 0.4962 - acc: 0.7959 - val_loss: 0.5396 - val_acc: 0.8000\n",
      "Epoch 159/200\n",
      "30/30 [==============================] - 9s 304ms/step - loss: 0.4504 - acc: 0.8168 - val_loss: 0.4912 - val_acc: 0.8104\n",
      "Epoch 160/200\n",
      "30/30 [==============================] - 9s 304ms/step - loss: 0.4587 - acc: 0.8116 - val_loss: 0.5453 - val_acc: 0.7854\n",
      "Epoch 161/200\n",
      "30/30 [==============================] - 9s 307ms/step - loss: 0.4724 - acc: 0.8064 - val_loss: 0.5754 - val_acc: 0.7750\n",
      "Epoch 162/200\n",
      "30/30 [==============================] - 9s 307ms/step - loss: 0.5086 - acc: 0.7896 - val_loss: 0.5493 - val_acc: 0.8062\n",
      "Epoch 163/200\n",
      "30/30 [==============================] - 9s 302ms/step - loss: 0.4279 - acc: 0.8285 - val_loss: 0.4390 - val_acc: 0.8042\n",
      "Epoch 164/200\n",
      "30/30 [==============================] - 9s 306ms/step - loss: 0.4357 - acc: 0.8173 - val_loss: 0.5170 - val_acc: 0.8188\n",
      "Epoch 165/200\n",
      "30/30 [==============================] - 9s 304ms/step - loss: 0.4392 - acc: 0.8231 - val_loss: 0.5955 - val_acc: 0.7771\n",
      "Epoch 166/200\n",
      "30/30 [==============================] - 9s 306ms/step - loss: 0.4638 - acc: 0.8085 - val_loss: 0.5102 - val_acc: 0.8083\n",
      "Epoch 167/200\n",
      "30/30 [==============================] - 9s 302ms/step - loss: 0.4035 - acc: 0.8314 - val_loss: 0.5636 - val_acc: 0.8083\n",
      "Epoch 168/200\n",
      "30/30 [==============================] - 9s 302ms/step - loss: 0.4762 - acc: 0.8006 - val_loss: 0.4254 - val_acc: 0.8229\n",
      "Epoch 169/200\n",
      "30/30 [==============================] - 9s 305ms/step - loss: 0.4089 - acc: 0.8344 - val_loss: 0.4749 - val_acc: 0.8083\n",
      "Epoch 170/200\n",
      "30/30 [==============================] - 9s 305ms/step - loss: 0.4459 - acc: 0.8222 - val_loss: 0.4666 - val_acc: 0.7917\n",
      "Epoch 171/200\n",
      "30/30 [==============================] - 9s 307ms/step - loss: 0.4086 - acc: 0.8339 - val_loss: 0.4702 - val_acc: 0.8188\n",
      "Epoch 172/200\n",
      "30/30 [==============================] - 9s 304ms/step - loss: 0.4499 - acc: 0.8154 - val_loss: 0.6945 - val_acc: 0.7521\n",
      "Epoch 173/200\n",
      "30/30 [==============================] - 9s 305ms/step - loss: 0.5467 - acc: 0.7876 - val_loss: 0.5924 - val_acc: 0.7854\n",
      "Epoch 174/200\n",
      "30/30 [==============================] - 9s 306ms/step - loss: 0.4668 - acc: 0.8158 - val_loss: 0.4443 - val_acc: 0.8167\n",
      "Epoch 175/200\n",
      "30/30 [==============================] - 9s 305ms/step - loss: 0.4446 - acc: 0.8203 - val_loss: 0.5214 - val_acc: 0.8000\n",
      "Epoch 176/200\n",
      "30/30 [==============================] - 9s 311ms/step - loss: 0.3901 - acc: 0.8473 - val_loss: 0.4685 - val_acc: 0.8104\n",
      "Epoch 177/200\n",
      "30/30 [==============================] - 9s 306ms/step - loss: 0.4412 - acc: 0.8307 - val_loss: 0.4967 - val_acc: 0.8104\n",
      "Epoch 178/200\n",
      "30/30 [==============================] - 9s 305ms/step - loss: 0.4345 - acc: 0.8241 - val_loss: 0.4580 - val_acc: 0.8167\n",
      "Epoch 179/200\n",
      "30/30 [==============================] - 9s 306ms/step - loss: 0.4291 - acc: 0.8304 - val_loss: 0.5322 - val_acc: 0.7833\n",
      "Epoch 180/200\n",
      "30/30 [==============================] - 9s 305ms/step - loss: 0.4269 - acc: 0.8340 - val_loss: 0.4287 - val_acc: 0.8271\n",
      "Epoch 181/200\n",
      "30/30 [==============================] - 9s 308ms/step - loss: 0.4585 - acc: 0.8173 - val_loss: 0.4601 - val_acc: 0.8125\n",
      "Epoch 182/200\n",
      "30/30 [==============================] - 9s 306ms/step - loss: 0.4505 - acc: 0.8231 - val_loss: 0.4650 - val_acc: 0.8125\n",
      "Epoch 183/200\n",
      "30/30 [==============================] - 9s 305ms/step - loss: 0.4271 - acc: 0.8304 - val_loss: 0.4655 - val_acc: 0.8229\n"
     ]
    },
    {
     "name": "stdout",
     "output_type": "stream",
     "text": [
      "Epoch 184/200\n",
      "30/30 [==============================] - 9s 305ms/step - loss: 0.4107 - acc: 0.8455 - val_loss: 0.5330 - val_acc: 0.7958\n",
      "Epoch 185/200\n",
      "30/30 [==============================] - 9s 308ms/step - loss: 0.4615 - acc: 0.8205 - val_loss: 0.5057 - val_acc: 0.8062\n",
      "Epoch 186/200\n",
      "30/30 [==============================] - 9s 308ms/step - loss: 0.3934 - acc: 0.8413 - val_loss: 0.4117 - val_acc: 0.8333\n",
      "Epoch 187/200\n",
      "30/30 [==============================] - 9s 302ms/step - loss: 0.3936 - acc: 0.8460 - val_loss: 0.5051 - val_acc: 0.7542\n",
      "Epoch 188/200\n",
      "30/30 [==============================] - 9s 306ms/step - loss: 0.4483 - acc: 0.8126 - val_loss: 0.6446 - val_acc: 0.7688\n",
      "Epoch 189/200\n",
      "30/30 [==============================] - 9s 305ms/step - loss: 0.3946 - acc: 0.8429 - val_loss: 0.4398 - val_acc: 0.8146\n",
      "Epoch 190/200\n",
      "30/30 [==============================] - 9s 302ms/step - loss: 0.3806 - acc: 0.8450 - val_loss: 0.5934 - val_acc: 0.7750\n",
      "Epoch 191/200\n",
      "30/30 [==============================] - 9s 304ms/step - loss: 0.4245 - acc: 0.8278 - val_loss: 0.4605 - val_acc: 0.8083\n",
      "Epoch 192/200\n",
      "30/30 [==============================] - 9s 309ms/step - loss: 0.3736 - acc: 0.8606 - val_loss: 0.4621 - val_acc: 0.8042\n",
      "Epoch 193/200\n",
      "30/30 [==============================] - 9s 304ms/step - loss: 0.4054 - acc: 0.8387 - val_loss: 0.5260 - val_acc: 0.8208\n",
      "Epoch 194/200\n",
      "30/30 [==============================] - 9s 302ms/step - loss: 0.4144 - acc: 0.8330 - val_loss: 0.5009 - val_acc: 0.8000\n",
      "Epoch 195/200\n",
      "30/30 [==============================] - 9s 304ms/step - loss: 0.3835 - acc: 0.8445 - val_loss: 0.5054 - val_acc: 0.8250\n",
      "Epoch 196/200\n",
      "30/30 [==============================] - 9s 306ms/step - loss: 0.3580 - acc: 0.8533 - val_loss: 0.4792 - val_acc: 0.8375\n",
      "Epoch 197/200\n",
      "30/30 [==============================] - 9s 301ms/step - loss: 0.4090 - acc: 0.8486 - val_loss: 0.5754 - val_acc: 0.7625\n",
      "Epoch 198/200\n",
      "30/30 [==============================] - 9s 305ms/step - loss: 0.3522 - acc: 0.8667 - val_loss: 0.5180 - val_acc: 0.8104\n",
      "Epoch 199/200\n",
      "30/30 [==============================] - 9s 307ms/step - loss: 0.4168 - acc: 0.8361 - val_loss: 0.5048 - val_acc: 0.8146\n",
      "Epoch 200/200\n",
      "30/30 [==============================] - 9s 306ms/step - loss: 0.4300 - acc: 0.8347 - val_loss: 0.4844 - val_acc: 0.8062\n"
     ]
    }
   ],
   "source": [
    "history = model.fit_generator(\n",
    "    train_generator,\n",
    "    steps_per_epoch = X_train.shape[0]//training_batch_size,\n",
    "    epochs = 200,\n",
    "    validation_data = validation_generator,\n",
    "    validation_steps = X_valid.shape[0]//validation_batch_size\n",
    "    )"
   ]
  },
  {
   "cell_type": "code",
   "execution_count": 26,
   "metadata": {},
   "outputs": [
    {
     "data": {
      "image/png": "[encoded data removed]",
      "text/plain": [
       "<Figure size 432x288 with 1 Axes>"
      ]
     },
     "metadata": {
      "needs_background": "light"
     },
     "output_type": "display_data"
    },
    {
     "data": {
      "image/png": "[encoded data removed]",
      "text/plain": [
       "<Figure size 432x288 with 1 Axes>"
      ]
     },
     "metadata": {
      "needs_background": "light"
     },
     "output_type": "display_data"
    }
   ],
   "source": [
    "acc = history.history['acc']\n",
    "val_acc = history.history['val_acc']\n",
    "loss = history.history['loss']\n",
    "val_loss = history.history['val_loss']\n",
    "epochs = range(1, len(acc) + 1)\n",
    "\n",
    "plt.figure()\n",
    "\n",
    "plt.plot(epochs, acc, 'bo', label='Training acc')\n",
    "plt.plot(epochs, val_acc, 'b', label='Validation acc')\n",
    "plt.title('Training and validation accuracy')\n",
    "plt.legend()\n",
    "\n",
    "plt.figure()\n",
    "plt.plot(epochs, loss, 'bo', label='Training loss')\n",
    "plt.plot(epochs, val_loss, 'b', label='Validation loss')\n",
    "plt.title('Training and validation loss')\n",
    "plt.legend()\n",
    "plt.show()"
   ]
  },
  {
   "cell_type": "code",
   "execution_count": 31,
   "metadata": {},
   "outputs": [],
   "source": [
    "model.save('CNN_wAG.h5')"
   ]
  },
  {
   "cell_type": "code",
   "execution_count": 32,
   "metadata": {},
   "outputs": [],
   "source": [
    "# del model"
   ]
  },
  {
   "cell_type": "code",
   "execution_count": 33,
   "metadata": {},
   "outputs": [],
   "source": [
    "test_datagen = ImageDataGenerator()"
   ]
  },
  {
   "cell_type": "code",
   "execution_count": 34,
   "metadata": {},
   "outputs": [
    {
     "data": {
      "text/plain": [
       "0.78909093"
      ]
     },
     "execution_count": 34,
     "metadata": {},
     "output_type": "execute_result"
    }
   ],
   "source": [
    "test_generator = test_datagen.flow(X_test, y = Y_test,\n",
    "                                   batch_size=1,\n",
    "                                   shuffle='False')\n",
    "\n",
    "#Evaluate model on test set\n",
    "loss,accuracy = model.evaluate_generator(test_generator)\n",
    "accuracy"
   ]
  },
  {
   "cell_type": "code",
   "execution_count": 35,
   "metadata": {},
   "outputs": [
    {
     "name": "stdout",
     "output_type": "stream",
     "text": [
      "Size of batch: (1, 100, 100, 3)\n"
     ]
    }
   ],
   "source": [
    "test_image, test_labels = next(test_generator)\n",
    "print('Size of batch:',test_image.shape)"
   ]
  },
  {
   "cell_type": "code",
   "execution_count": 36,
   "metadata": {},
   "outputs": [
    {
     "data": {
      "text/plain": [
       "<matplotlib.image.AxesImage at 0x2cacd20b048>"
      ]
     },
     "execution_count": 36,
     "metadata": {},
     "output_type": "execute_result"
    },
    {
     "data": {
      "image/png": "[encoded data removed]",
      "text/plain": [
       "<Figure size 432x288 with 1 Axes>"
      ]
     },
     "metadata": {
      "needs_background": "light"
     },
     "output_type": "display_data"
    }
   ],
   "source": [
    "plt.imshow(test_image[0])"
   ]
  },
  {
   "cell_type": "markdown",
   "metadata": {},
   "source": [
    "#### 1) Code 1: to match the output from evaluate_generator"
   ]
  },
  {
   "cell_type": "code",
   "execution_count": 37,
   "metadata": {},
   "outputs": [
    {
     "name": "stdout",
     "output_type": "stream",
     "text": [
      "0.7890909090909091\n"
     ]
    }
   ],
   "source": [
    "y_pred=[]\n",
    "y_true=[]\n",
    "\n",
    "for i in range(len(X_test)):\n",
    "    \n",
    "    test_image, test_label = next(test_generator)\n",
    "    \n",
    "    y_pred.append(np.argmax(model.predict(test_image),-1)[0])\n",
    "    \n",
    "    y_true.append(np.argmax(test_label,-1)[0])\n",
    "\n",
    "print(sum(np.array(y_pred)==np.array(y_true))/len(X_test))"
   ]
  },
  {
   "cell_type": "code",
   "execution_count": 38,
   "metadata": {},
   "outputs": [],
   "source": [
    "# this snippet can be used when the batch size equal to the entire test or validation or training data\n",
    "\n",
    "#y_img_batch, y_class_batch = test_generator[0] \n",
    "#y_pred = np.argmax(model.predict(y_img_batch),-1)\n",
    "#y_true = np.argmax(y_class_batch,-1)\n",
    "#print(sum(y_pred==y_true)/len(X_test))"
   ]
  },
  {
   "cell_type": "markdown",
   "metadata": {},
   "source": [
    "#### 2) Code 2:  to match the output from evaluate_generator"
   ]
  },
  {
   "cell_type": "code",
   "execution_count": 39,
   "metadata": {},
   "outputs": [],
   "source": [
    "# print(test_generator.index_array)"
   ]
  },
  {
   "cell_type": "code",
   "execution_count": 40,
   "metadata": {},
   "outputs": [
    {
     "data": {
      "text/plain": [
       "0.7890909090909091"
      ]
     },
     "execution_count": 40,
     "metadata": {},
     "output_type": "execute_result"
    }
   ],
   "source": [
    "test_generator.reset()\n",
    "\n",
    "Y_pred = model.predict_generator(test_generator)\n",
    "\n",
    "classes = np.argmax(test_generator.y,axis=-1)[test_generator.index_array]\n",
    "\n",
    "y_pred = np.argmax(Y_pred, axis=-1)\n",
    "\n",
    "accuracy = sum(y_pred==classes)/len(X_test)\n",
    "\n",
    "accuracy"
   ]
  },
  {
   "cell_type": "code",
   "execution_count": null,
   "metadata": {},
   "outputs": [],
   "source": []
  },
  {
   "cell_type": "markdown",
   "metadata": {},
   "source": [
    "#### ==================================================================================================="
   ]
  },
  {
   "cell_type": "markdown",
   "metadata": {},
   "source": [
    "### Confusion matrix"
   ]
  },
  {
   "cell_type": "code",
   "execution_count": 41,
   "metadata": {},
   "outputs": [],
   "source": [
    "xticklabels=np.array(CLASSES)\n",
    "yticklabels=np.array(CLASSES)"
   ]
  },
  {
   "cell_type": "code",
   "execution_count": 42,
   "metadata": {},
   "outputs": [],
   "source": [
    "X = X_train # X_test\n",
    "Y = Y_train # Y_test"
   ]
  },
  {
   "cell_type": "code",
   "execution_count": 43,
   "metadata": {},
   "outputs": [],
   "source": [
    "prediction = model.predict_classes(X)# return class number"
   ]
  },
  {
   "cell_type": "code",
   "execution_count": 44,
   "metadata": {},
   "outputs": [],
   "source": [
    "Y_int = np.argmax(Y,axis=1)"
   ]
  },
  {
   "cell_type": "code",
   "execution_count": 45,
   "metadata": {},
   "outputs": [
    {
     "name": "stdout",
     "output_type": "stream",
     "text": [
      "Class counts: {0: 404, 1: 405, 2: 400, 3: 387, 4: 384}\n"
     ]
    }
   ],
   "source": [
    "Class_label_counters_split = dict(sorted({label:list(Y_int).count(label) for label in list(Y_int)}.items()))\n",
    "\n",
    "print('Class counts:',Class_label_counters_split)"
   ]
  },
  {
   "cell_type": "code",
   "execution_count": 46,
   "metadata": {},
   "outputs": [
    {
     "name": "stdout",
     "output_type": "stream",
     "text": [
      "[[347  28   2  16  11]\n",
      " [ 81 225  11  17  71]\n",
      " [  0   0 399   0   1]\n",
      " [  0   0   0 387   0]\n",
      " [  7   8   0  38 331]]\n"
     ]
    }
   ],
   "source": [
    "print(confusion_matrix(Y_int,prediction))"
   ]
  },
  {
   "cell_type": "code",
   "execution_count": 47,
   "metadata": {},
   "outputs": [
    {
     "name": "stdout",
     "output_type": "stream",
     "text": [
      "              precision    recall  f1-score   support\n",
      "\n",
      "        cats       0.80      0.86      0.83       404\n",
      "        dogs       0.86      0.56      0.68       405\n",
      "       panda       0.97      1.00      0.98       400\n",
      "       bikes       0.84      1.00      0.92       387\n",
      "       horse       0.80      0.86      0.83       384\n",
      "\n",
      "    accuracy                           0.85      1980\n",
      "   macro avg       0.85      0.85      0.85      1980\n",
      "weighted avg       0.85      0.85      0.85      1980\n",
      "\n"
     ]
    }
   ],
   "source": [
    "print(classification_report(Y_int,prediction,target_names=CLASSES))"
   ]
  },
  {
   "cell_type": "code",
   "execution_count": 48,
   "metadata": {},
   "outputs": [
    {
     "data": {
      "text/plain": [
       "Text(69.0, 0.5, 'ACTUAL')"
      ]
     },
     "execution_count": 48,
     "metadata": {},
     "output_type": "execute_result"
    },
    {
     "data": {
      "image/png": "[encoded data removed]",
      "text/plain": [
       "<Figure size 720x504 with 2 Axes>"
      ]
     },
     "metadata": {
      "needs_background": "light"
     },
     "output_type": "display_data"
    }
   ],
   "source": [
    "df_cm = pd.DataFrame(confusion_matrix(Y_int,prediction), range(total_classes),range(total_classes))\n",
    "plt.figure(figsize = (10,7))\n",
    "#sns.set(font_scale=1.5)#for label size\n",
    "\n",
    "sns.heatmap(df_cm, annot=True,annot_kws={\"size\": 15},cmap=\"PuBu\",linecolor='black',linewidths=0.5,xticklabels=xticklabels,yticklabels=yticklabels)# font size\n",
    "plt.xlabel('PREDICTED')\n",
    "plt.ylabel('ACTUAL')"
   ]
  },
  {
   "cell_type": "code",
   "execution_count": null,
   "metadata": {},
   "outputs": [],
   "source": []
  },
  {
   "cell_type": "code",
   "execution_count": null,
   "metadata": {},
   "outputs": [],
   "source": [
    "#In flow_from_directory Since you are passing class_mode='categorical' you dont need to manually convert the labels to one hot encoded vectors using to_categorical().\n",
    "#The Generator will return labels as categorical."
   ]
  },
  {
   "cell_type": "code",
   "execution_count": null,
   "metadata": {},
   "outputs": [],
   "source": []
  },
  {
   "cell_type": "code",
   "execution_count": null,
   "metadata": {},
   "outputs": [],
   "source": [
    "#  free memory resources, it will interrupt the kernel\n",
    "os.kill(os.getpid(), signal.SIGTERM)"
   ]
  }
 ],
 "metadata": {
  "kernelspec": {
   "display_name": "TF-GPU",
   "language": "python",
   "name": "tf_gpu"
  },
  "language_info": {
   "codemirror_mode": {
    "name": "ipython",
    "version": 3
   },
   "file_extension": ".py",
   "mimetype": "text/x-python",
   "name": "python",
   "nbconvert_exporter": "python",
   "pygments_lexer": "ipython3",
   "version": "3.6.9"
  }
 },
 "nbformat": 4,
 "nbformat_minor": 2
}
